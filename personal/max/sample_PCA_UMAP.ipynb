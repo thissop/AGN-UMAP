{
 "cells": [
  {
   "cell_type": "code",
   "execution_count": null,
   "metadata": {},
   "outputs": [],
   "source": [
    "import pandas as pd\n",
    "import numpy as np\n",
    "import matplotlib.pyplot as plt\n",
    "import umap.umap_ as umap\n",
    "from sklearn.decomposition import PCA\n",
    "from sklearn.preprocessing import StandardScaler\n",
    "import os\n",
    "import sys"
   ]
  },
  {
   "cell_type": "code",
   "execution_count": null,
   "metadata": {},
   "outputs": [],
   "source": [
    "spectra_data_path = \"/Users/max/astroTest/data_analysis/data/kf2/fos_spectra_post/\"\n",
    "spectra_data = []\n",
    "\n",
    "def erg_to_jansky(flux_density_erg):\n",
    "    # Convert flux density to jansky\n",
    "    flux_density_erg = np.asarray(flux_density_erg)\n",
    "    flux_density_jy = (flux_density_erg * (u.erg / (u.s * u.cm**2 * u.Angstrom))).to(u.Jy, equivalencies=u.spectral_density(1 * u.Angstrom))\n",
    "    return flux_density_jy\n",
    "  \n",
    "\n",
    "for source in os.listdir(spectra_data_path):\n",
    "    file_path = \"data/kf2/fos_spectra_post/\" + source \n",
    "    df = pd.read_csv(file_path, sep='\\s+', header=None)\n",
    "    df.columns = [\"Wavelength\", \"Flux\", \"Error\", \"(Possibly) Data Quality Flag\"]\n",
    "    df = df.drop(\"(Possibly) Data Quality Flag\", axis=1)\n",
    "\n",
    "    # Flipping spectra so it goes from shortest wavelength to longest (Most already do, some don't)\n",
    "    if (df.iat[-1, 0]-df.iat[0, 0]) < 0:\n",
    "        df = df[::-1]\n",
    "\n",
    "    spectra_data.append(df)"
   ]
  },
  {
   "cell_type": "code",
   "execution_count": null,
   "metadata": {},
   "outputs": [],
   "source": [
    "from scipy.interpolate import interp1d\n",
    "\n",
    "def fourier_resample_logscale(wavelength, flux, new_wavelength):\n",
    "    # Transform to frequency domain using FFT\n",
    "    frequency = np.fft.fftfreq(len(wavelength), np.mean(np.diff(np.log10(wavelength))))\n",
    "    spectrum_fft = np.fft.fft(flux)\n",
    "    \n",
    "    # Interpolate in the frequency domain\n",
    "    interpolator = interp1d(frequency, spectrum_fft, kind='linear', fill_value=\"extrapolate\")\n",
    "    new_spectrum_fft = interpolator(np.fft.fftfreq(len(new_wavelength), np.mean(np.diff(np.log10(new_wavelength)))))\n",
    "\n",
    "    # Transform back to wavelength domain using IFFT\n",
    "    new_flux = np.fft.ifft(new_spectrum_fft)\n",
    "    \n",
    "    \n",
    "    resampled_spectrum = np.array(new_flux.real)\n",
    "    \n",
    "    return resampled_spectrum"
   ]
  },
  {
   "cell_type": "code",
   "execution_count": null,
   "metadata": {},
   "outputs": [],
   "source": [
    "adjusted_spectra = []\n",
    "\n",
    "# Determined using distribution of spectra start/stop intervals \n",
    "fft_start = 1590 \n",
    "fft_end = fft_start + 2000 \n",
    "fft_density = 1000\n",
    "new_wavelength = np.logspace(np.log10(fft_start), np.log10(fft_end), fft_density)\n",
    "\n",
    "\n",
    "for spectrum in spectra_data:\n",
    "    fft_sepctra = fourier_resample_logscale(wavelength=spectrum[\"Wavelength\"], flux=spectrum[\"Flux\"], new_wavelength=new_wavelength)\n",
    "    adjusted_spectra.append(fft_sepctra)\n",
    "\n",
    "\n",
    "spectra = pd.DataFrame(adjusted_spectra, columns=[new_wavelength])"
   ]
  },
  {
   "cell_type": "code",
   "execution_count": null,
   "metadata": {},
   "outputs": [],
   "source": [
    "X = spectra\n",
    "scaler = StandardScaler()\n",
    "X_scaled = scaler.fit_transform(X)\n",
    "pca = PCA(n_components=2)\n",
    "principal_components = pca.fit_transform(X_scaled)\n",
    "components = pca.components_  # Principal components\n",
    "explained_variance_ratio = pca.explained_variance_ratio_  # Explained variance ratio\n",
    "plt.scatter(principal_components[:, 0], principal_components[:, 1])\n",
    "plt.xlabel('Principal Component 1')\n",
    "plt.ylabel('Principal Component 2')\n",
    "plt.title('PCA - Spectra Data')\n",
    "plt.show()"
   ]
  },
  {
   "cell_type": "code",
   "execution_count": null,
   "metadata": {},
   "outputs": [],
   "source": [
    "umap_model = umap.UMAP(n_components=2)\n",
    "from sklearn.cluster import KMeans\n",
    "\n",
    "# Fit the UMAP model to the data\n",
    "umap_result = umap_model.fit_transform(spectra)\n",
    "\n",
    "# Access the UMAP embeddings\n",
    "umap_embeddings = umap_result\n",
    "\n",
    "# Plot the UMAP embeddings\n",
    "plt.scatter(umap_embeddings[:, 0], umap_embeddings[:, 1])\n",
    "plt.xlabel('UMAP Component 1')\n",
    "plt.ylabel('UMAP Component 2')\n",
    "plt.title('UMAP Embeddings')\n",
    "plt.show()\n",
    "\n",
    "'''\n",
    "kmeans = KMeans(n_clusters=3, random_state=42)\n",
    "cluster_labels = kmeans.fit_predict(umap_embeddings)\n",
    "\n",
    "# Plot the UMAP embeddings with cluster colors\n",
    "plt.scatter(umap_embeddings[:, 0], umap_embeddings[:, 1], c=cluster_labels)\n",
    "plt.xlabel('UMAP Component 1')\n",
    "plt.ylabel('UMAP Component 2')\n",
    "plt.title('UMAP Clustering')\n",
    "plt.colorbar(label='Cluster')\n",
    "plt.show()\n",
    "'''\n"
   ]
  }
 ],
 "metadata": {
  "kernelspec": {
   "display_name": "agnproject",
   "language": "python",
   "name": "python3"
  },
  "language_info": {
   "codemirror_mode": {
    "name": "ipython",
    "version": 3
   },
   "file_extension": ".py",
   "mimetype": "text/x-python",
   "name": "python",
   "nbconvert_exporter": "python",
   "pygments_lexer": "ipython3",
   "version": "3.9.16"
  },
  "orig_nbformat": 4
 },
 "nbformat": 4,
 "nbformat_minor": 2
}
