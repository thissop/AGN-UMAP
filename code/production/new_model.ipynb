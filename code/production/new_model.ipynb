{
 "cells": [
  {
   "cell_type": "code",
   "execution_count": 19,
   "metadata": {},
   "outputs": [],
   "source": [
    "import tensorflow as tf\n",
    "from tensorflow.keras.layers import Conv1D, MaxPooling1D, Flatten, Dense, PReLU, Input, Reshape, Layer, Lambda\n",
    "from tensorflow.keras.models import Model\n",
    "import tensorflow.keras.backend as K\n",
    "import numpy as np\n",
    "from astropy.io import fits\n",
    "from sklearn.model_selection import train_test_split\n",
    "import matplotlib.pyplot as plt\n",
    "import os\n",
    "from scipy.ndimage import gaussian_filter1d\n",
    "\n",
    "def build_encoder(input_shape, latent_dim):\n",
    "    input_layer = Input(shape=input_shape)\n",
    "\n",
    "    # Convolutional Layers\n",
    "    x = Conv1D(filters=128, kernel_size=5, padding='valid', name='conv1')(input_layer)\n",
    "    x = PReLU(name='prelu1')(x)\n",
    "    x = MaxPooling1D(pool_size=2, name='maxpool1')(x)\n",
    "\n",
    "    x = Conv1D(filters=256, kernel_size=11, padding='valid', name='conv2')(x)\n",
    "    x = PReLU(name='prelu2')(x)\n",
    "    x = MaxPooling1D(pool_size=2, name='maxpool2')(x)\n",
    "\n",
    "    x = Conv1D(filters=512, kernel_size=21, padding='valid', name='conv3')(x)\n",
    "    x = PReLU(name='prelu3')(x)\n",
    "    x = MaxPooling1D(pool_size=2, name='maxpool3')(x)\n",
    "\n",
    "    # Flatten the output from Conv layers\n",
    "    x = Flatten(name='flatten')(x)\n",
    "\n",
    "    # Fully Connected Layers\n",
    "    x = Dense(256, name='dense1')(x)\n",
    "    x = PReLU(name='prelu4')(x)\n",
    "    x = Dense(128, name='dense2')(x)\n",
    "    x = PReLU(name='prelu5')(x)\n",
    "    x = Dense(64, name='dense3')(x)\n",
    "    x = PReLU(name='prelu6')(x)\n",
    "\n",
    "    # Latent Space\n",
    "    latent_space = Dense(latent_dim, name='latent_space')(x)\n",
    "\n",
    "    return Model(input_layer, latent_space, name='encoder')\n",
    "\n",
    "# This version compiles but has run time issues. \n",
    "'''\n",
    "def build_decoder(latent_dim, output_dim, rest_range, observed_range, observed_resolution, upsample_factor):\n",
    "    # Inputs: latent vector and scalar z\n",
    "    latent_input = Input(shape=(latent_dim,), name='latent_input')\n",
    "    z_input = Input(shape=(1,), name='z')  # Scalar input for z\n",
    "    \n",
    "    # Step 1: Fully Connected Layers to generate rest frame representation\n",
    "    x = Dense(64)(latent_input)\n",
    "    x = PReLU()(x)    \n",
    "    x = Dense(256)(x)\n",
    "    x = PReLU()(x)\n",
    "    x = Dense(1024)(x)\n",
    "    x = PReLU()(x)\n",
    "\n",
    "    # Generate rest frame grid\n",
    "    min_rest_x, max_rest_x = rest_range\n",
    "    rest_length = int((max_rest_x - min_rest_x) / observed_resolution * upsample_factor)\n",
    "    rest_x = tf.linspace(min_rest_x, max_rest_x, rest_length)\n",
    "\n",
    "    # Upsample Layer \n",
    "    x = Dense(rest_length)(x)\n",
    "    x = PReLU()(x)\n",
    "\n",
    "    # Define a Lambda layer to handle TensorFlow operations on Keras tensors\n",
    "    def slice_and_downsample(inputs):\n",
    "        x, z_input = inputs\n",
    "\n",
    "        # Compute Boundary Indexes based on rest_x, observed_range, and z_input\n",
    "        min_rest_obs = observed_range[0] / (1 + z_input)\n",
    "        max_rest_obs = observed_range[1] / (1 + z_input)\n",
    "\n",
    "        # Find start and stop indices using TensorFlow operations\n",
    "        start_index = tf.argmin(tf.abs(rest_x - min_rest_obs))\n",
    "        stop_index = tf.argmin(tf.abs(rest_x - max_rest_obs))\n",
    "\n",
    "        # Slice and downsample the tensor\n",
    "        sliced_x = x[:, start_index:stop_index]\n",
    "\n",
    "        # Ensure downsampling results in `output_dim` elements\n",
    "        downsample_factor = tf.cast(tf.shape(sliced_x)[1] / output_dim, tf.int32)\n",
    "        output = sliced_x[:, ::downsample_factor]\n",
    "\n",
    "        return output\n",
    "\n",
    "    # Define the output shape manually\n",
    "    def compute_output_shape(input_shapes):\n",
    "        latent_shape, z_shape = input_shapes\n",
    "        return (latent_shape[0], output_dim)\n",
    "\n",
    "    # Use Lambda layer to apply the slicing and downsampling\n",
    "    output = Lambda(slice_and_downsample, output_shape=compute_output_shape)([x, z_input])\n",
    "\n",
    "    # Reshape the final output to the desired dimensions\n",
    "    output = Reshape((output_dim, 1))(output)\n",
    "\n",
    "    return Model([latent_input, z_input], output, name='decoder')\n",
    "'''\n",
    "\n",
    "def build_decoder(latent_dim, output_dim, rest_range, observed_range, observed_resolution, upsample_factor):\n",
    "    # Inputs: latent vector and scalar z\n",
    "    latent_input = Input(shape=(latent_dim,), name='latent_input')\n",
    "    z_input = Input(shape=(1,), name='z')  # Scalar input for z\n",
    "    \n",
    "    # Step 1: Fully Connected Layers to generate rest frame representation\n",
    "    x = Dense(64)(latent_input)\n",
    "    x = PReLU()(x)    \n",
    "    x = Dense(256)(x)\n",
    "    x = PReLU()(x)\n",
    "    x = Dense(1024)(x)\n",
    "    x = PReLU()(x)\n",
    "\n",
    "    # Generate rest frame grid\n",
    "    min_rest_x, max_rest_x = rest_range\n",
    "    rest_length = int((max_rest_x - min_rest_x) / observed_resolution * upsample_factor)\n",
    "    rest_x = tf.linspace(min_rest_x, max_rest_x, rest_length)\n",
    "\n",
    "    # Upsample Layer \n",
    "    x = Dense(rest_length)(x)\n",
    "    x = PReLU()(x)\n",
    "\n",
    "    # Define a Lambda layer to handle TensorFlow operations on Keras tensors\n",
    "    def slice_and_downsample(inputs):\n",
    "        x, z_input = inputs\n",
    "\n",
    "        # Compute Boundary Indexes based on rest_x, observed_range, and z_input\n",
    "        z_input = tf.squeeze(z_input, axis=-1)  # Remove the extra dimension from z_input if needed\n",
    "        min_rest_obs = observed_range[0] / (1 + z_input)\n",
    "        max_rest_obs = observed_range[1] / (1 + z_input)\n",
    "\n",
    "        # Broadcast rest_x to match the batch size (the first dimension of x)\n",
    "        rest_x_broadcasted = tf.broadcast_to(rest_x, [tf.shape(x)[0], rest_length])\n",
    "\n",
    "        # Find start and stop indices using TensorFlow operations\n",
    "        start_indices = tf.argmin(tf.abs(rest_x_broadcasted - tf.expand_dims(min_rest_obs, axis=-1)), axis=-1)\n",
    "        stop_indices = tf.argmin(tf.abs(rest_x_broadcasted - tf.expand_dims(max_rest_obs, axis=-1)), axis=-1)\n",
    "\n",
    "        # Use TensorFlow's batch-wise slicing mechanism to slice based on indices\n",
    "        batch_size = tf.shape(x)[0]\n",
    "\n",
    "        # Generate index grid for each batch\n",
    "        indices = tf.range(batch_size)\n",
    "\n",
    "        # Gather the slice from each batch using start and stop indices\n",
    "        sliced_x = tf.map_fn(\n",
    "            lambda idx: x[idx, start_indices[idx]:stop_indices[idx]:upsample_factor], \n",
    "            indices, dtype=tf.float32\n",
    "        )\n",
    "\n",
    "        return sliced_x\n",
    "\n",
    "    # Define the output shape manually\n",
    "    def compute_output_shape(input_shapes):\n",
    "        latent_shape, z_shape = input_shapes\n",
    "        return (latent_shape[0], output_dim)\n",
    "\n",
    "    # Use Lambda layer to apply the slicing and downsampling\n",
    "    output = Lambda(slice_and_downsample, output_shape=compute_output_shape)([x, z_input])\n",
    "\n",
    "    # Reshape the final output to the desired dimensions\n",
    "    output = Reshape((output_dim, 1))(output)\n",
    "\n",
    "    return Model([latent_input, z_input], output, name='decoder')\n",
    "def build_autoencoder(input_shape, latent_dim, z_range, observed_range, observed_resolution, upsample_factor):\n",
    "    spectra_input = Input(shape=input_shape, name='spectra_input')\n",
    "    \n",
    "    # Building the encoder (you would define build_encoder separately)\n",
    "    encoder = build_encoder(input_shape, latent_dim)\n",
    "    latent_space = encoder(spectra_input)\n",
    "    \n",
    "    # Scalar z input for each iteration\n",
    "    z_input = Input(shape=(1,), name='z_input')\n",
    "    \n",
    "    # Building the decoder, which now takes both latent vector and scalar z\n",
    "\n",
    "    rest_range = [observed_range[0]/(1+z_range[1]), observed_range[1]/(1+z_range[0])]\n",
    "\n",
    "    decoder = build_decoder(latent_dim, input_shape[0], rest_range, observed_range, observed_resolution, upsample_factor)\n",
    "    reconstructed_output = decoder([latent_space, z_input])\n",
    "\n",
    "    # Define the complete autoencoder model\n",
    "    return Model(inputs=[spectra_input, z_input], outputs=reconstructed_output, name='autoencoder')"
   ]
  },
  {
   "cell_type": "code",
   "execution_count": 20,
   "metadata": {},
   "outputs": [
    {
     "data": {
      "text/html": [
       "<pre style=\"white-space:pre;overflow-x:auto;line-height:normal;font-family:Menlo,'DejaVu Sans Mono',consolas,'Courier New',monospace\"><span style=\"font-weight: bold\">Model: \"autoencoder\"</span>\n",
       "</pre>\n"
      ],
      "text/plain": [
       "\u001b[1mModel: \"autoencoder\"\u001b[0m\n"
      ]
     },
     "metadata": {},
     "output_type": "display_data"
    },
    {
     "data": {
      "text/html": [
       "<pre style=\"white-space:pre;overflow-x:auto;line-height:normal;font-family:Menlo,'DejaVu Sans Mono',consolas,'Courier New',monospace\">┏━━━━━━━━━━━━━━━━━━━━━┳━━━━━━━━━━━━━━━━━━━┳━━━━━━━━━━━━┳━━━━━━━━━━━━━━━━━━━┓\n",
       "┃<span style=\"font-weight: bold\"> Layer (type)        </span>┃<span style=\"font-weight: bold\"> Output Shape      </span>┃<span style=\"font-weight: bold\">    Param # </span>┃<span style=\"font-weight: bold\"> Connected to      </span>┃\n",
       "┡━━━━━━━━━━━━━━━━━━━━━╇━━━━━━━━━━━━━━━━━━━╇━━━━━━━━━━━━╇━━━━━━━━━━━━━━━━━━━┩\n",
       "│ spectra_input       │ (<span style=\"color: #00d7ff; text-decoration-color: #00d7ff\">None</span>, <span style=\"color: #00af00; text-decoration-color: #00af00\">1500</span>, <span style=\"color: #00af00; text-decoration-color: #00af00\">1</span>)   │          <span style=\"color: #00af00; text-decoration-color: #00af00\">0</span> │ -                 │\n",
       "│ (<span style=\"color: #0087ff; text-decoration-color: #0087ff\">InputLayer</span>)        │                   │            │                   │\n",
       "├─────────────────────┼───────────────────┼────────────┼───────────────────┤\n",
       "│ encoder             │ (<span style=\"color: #00d7ff; text-decoration-color: #00d7ff\">None</span>, <span style=\"color: #00af00; text-decoration-color: #00af00\">10</span>)        │ <span style=\"color: #00af00; text-decoration-color: #00af00\">26,522,634</span> │ spectra_input[<span style=\"color: #00af00; text-decoration-color: #00af00\">0</span>]… │\n",
       "│ (<span style=\"color: #0087ff; text-decoration-color: #0087ff\">Functional</span>)        │                   │            │                   │\n",
       "├─────────────────────┼───────────────────┼────────────┼───────────────────┤\n",
       "│ z_input             │ (<span style=\"color: #00d7ff; text-decoration-color: #00d7ff\">None</span>, <span style=\"color: #00af00; text-decoration-color: #00af00\">1</span>)         │          <span style=\"color: #00af00; text-decoration-color: #00af00\">0</span> │ -                 │\n",
       "│ (<span style=\"color: #0087ff; text-decoration-color: #0087ff\">InputLayer</span>)        │                   │            │                   │\n",
       "├─────────────────────┼───────────────────┼────────────┼───────────────────┤\n",
       "│ decoder             │ (<span style=\"color: #00d7ff; text-decoration-color: #00d7ff\">None</span>, <span style=\"color: #00af00; text-decoration-color: #00af00\">1500</span>, <span style=\"color: #00af00; text-decoration-color: #00af00\">1</span>)   │  <span style=\"color: #00af00; text-decoration-color: #00af00\">1,652,592</span> │ encoder[<span style=\"color: #00af00; text-decoration-color: #00af00\">0</span>][<span style=\"color: #00af00; text-decoration-color: #00af00\">0</span>],    │\n",
       "│ (<span style=\"color: #0087ff; text-decoration-color: #0087ff\">Functional</span>)        │                   │            │ z_input[<span style=\"color: #00af00; text-decoration-color: #00af00\">0</span>][<span style=\"color: #00af00; text-decoration-color: #00af00\">0</span>]     │\n",
       "└─────────────────────┴───────────────────┴────────────┴───────────────────┘\n",
       "</pre>\n"
      ],
      "text/plain": [
       "┏━━━━━━━━━━━━━━━━━━━━━┳━━━━━━━━━━━━━━━━━━━┳━━━━━━━━━━━━┳━━━━━━━━━━━━━━━━━━━┓\n",
       "┃\u001b[1m \u001b[0m\u001b[1mLayer (type)       \u001b[0m\u001b[1m \u001b[0m┃\u001b[1m \u001b[0m\u001b[1mOutput Shape     \u001b[0m\u001b[1m \u001b[0m┃\u001b[1m \u001b[0m\u001b[1m   Param #\u001b[0m\u001b[1m \u001b[0m┃\u001b[1m \u001b[0m\u001b[1mConnected to     \u001b[0m\u001b[1m \u001b[0m┃\n",
       "┡━━━━━━━━━━━━━━━━━━━━━╇━━━━━━━━━━━━━━━━━━━╇━━━━━━━━━━━━╇━━━━━━━━━━━━━━━━━━━┩\n",
       "│ spectra_input       │ (\u001b[38;5;45mNone\u001b[0m, \u001b[38;5;34m1500\u001b[0m, \u001b[38;5;34m1\u001b[0m)   │          \u001b[38;5;34m0\u001b[0m │ -                 │\n",
       "│ (\u001b[38;5;33mInputLayer\u001b[0m)        │                   │            │                   │\n",
       "├─────────────────────┼───────────────────┼────────────┼───────────────────┤\n",
       "│ encoder             │ (\u001b[38;5;45mNone\u001b[0m, \u001b[38;5;34m10\u001b[0m)        │ \u001b[38;5;34m26,522,634\u001b[0m │ spectra_input[\u001b[38;5;34m0\u001b[0m]… │\n",
       "│ (\u001b[38;5;33mFunctional\u001b[0m)        │                   │            │                   │\n",
       "├─────────────────────┼───────────────────┼────────────┼───────────────────┤\n",
       "│ z_input             │ (\u001b[38;5;45mNone\u001b[0m, \u001b[38;5;34m1\u001b[0m)         │          \u001b[38;5;34m0\u001b[0m │ -                 │\n",
       "│ (\u001b[38;5;33mInputLayer\u001b[0m)        │                   │            │                   │\n",
       "├─────────────────────┼───────────────────┼────────────┼───────────────────┤\n",
       "│ decoder             │ (\u001b[38;5;45mNone\u001b[0m, \u001b[38;5;34m1500\u001b[0m, \u001b[38;5;34m1\u001b[0m)   │  \u001b[38;5;34m1,652,592\u001b[0m │ encoder[\u001b[38;5;34m0\u001b[0m][\u001b[38;5;34m0\u001b[0m],    │\n",
       "│ (\u001b[38;5;33mFunctional\u001b[0m)        │                   │            │ z_input[\u001b[38;5;34m0\u001b[0m][\u001b[38;5;34m0\u001b[0m]     │\n",
       "└─────────────────────┴───────────────────┴────────────┴───────────────────┘\n"
      ]
     },
     "metadata": {},
     "output_type": "display_data"
    },
    {
     "data": {
      "text/html": [
       "<pre style=\"white-space:pre;overflow-x:auto;line-height:normal;font-family:Menlo,'DejaVu Sans Mono',consolas,'Courier New',monospace\"><span style=\"font-weight: bold\"> Total params: </span><span style=\"color: #00af00; text-decoration-color: #00af00\">28,175,226</span> (107.48 MB)\n",
       "</pre>\n"
      ],
      "text/plain": [
       "\u001b[1m Total params: \u001b[0m\u001b[38;5;34m28,175,226\u001b[0m (107.48 MB)\n"
      ]
     },
     "metadata": {},
     "output_type": "display_data"
    },
    {
     "data": {
      "text/html": [
       "<pre style=\"white-space:pre;overflow-x:auto;line-height:normal;font-family:Menlo,'DejaVu Sans Mono',consolas,'Courier New',monospace\"><span style=\"font-weight: bold\"> Trainable params: </span><span style=\"color: #00af00; text-decoration-color: #00af00\">28,175,226</span> (107.48 MB)\n",
       "</pre>\n"
      ],
      "text/plain": [
       "\u001b[1m Trainable params: \u001b[0m\u001b[38;5;34m28,175,226\u001b[0m (107.48 MB)\n"
      ]
     },
     "metadata": {},
     "output_type": "display_data"
    },
    {
     "data": {
      "text/html": [
       "<pre style=\"white-space:pre;overflow-x:auto;line-height:normal;font-family:Menlo,'DejaVu Sans Mono',consolas,'Courier New',monospace\"><span style=\"font-weight: bold\"> Non-trainable params: </span><span style=\"color: #00af00; text-decoration-color: #00af00\">0</span> (0.00 B)\n",
       "</pre>\n"
      ],
      "text/plain": [
       "\u001b[1m Non-trainable params: \u001b[0m\u001b[38;5;34m0\u001b[0m (0.00 B)\n"
      ]
     },
     "metadata": {},
     "output_type": "display_data"
    }
   ],
   "source": [
    "observed_range = [3550, 10400]\n",
    "observed_length = 1500\n",
    "observed_resolution = (observed_range[1]-observed_range[0])/observed_length\n",
    "z_range = [1.5, 2.2]\n",
    "\n",
    "autoencoder = build_autoencoder(input_shape=(1500, 1), latent_dim=10, z_range=z_range, observed_range=observed_range, observed_resolution=observed_resolution, upsample_factor=2)\n",
    "\n",
    "autoencoder.compile(optimizer='adam', loss='mse')\n",
    "autoencoder.summary()"
   ]
  },
  {
   "cell_type": "code",
   "execution_count": 17,
   "metadata": {},
   "outputs": [
    {
     "name": "stdout",
     "output_type": "stream",
     "text": [
      "Training set size: 392\n",
      "Test set size: 99\n"
     ]
    }
   ],
   "source": [
    "import os\n",
    "import numpy as np\n",
    "from sklearn.model_selection import train_test_split\n",
    "from scipy.ndimage import gaussian_filter1d\n",
    "from astropy.io import fits\n",
    "\n",
    "data_dir = '/Users/tkiker/Documents/GitHub/AGN-UMAP/data/sdss_spectra'\n",
    "\n",
    "file_names = []\n",
    "spectra = []\n",
    "zs = []\n",
    "\n",
    "x = np.linspace(observed_range[0], observed_range[1], observed_length)\n",
    "\n",
    "for file_name in os.listdir(data_dir)[0:500]:\n",
    "    hdul = fits.open(os.path.join(data_dir, file_name))\n",
    "    \n",
    "    z = hdul[2].data['z'][0]\n",
    "\n",
    "    if z_range[0] <= z <= z_range[1]:\n",
    "\n",
    "        data = hdul[1].data\n",
    "\n",
    "        wavelength = 10**data[\"loglam\"]\n",
    "        flux = data[\"flux\"]\n",
    "\n",
    "        # Apply a Gaussian filter to smooth the flux\n",
    "        flux = gaussian_filter1d(flux, sigma=3)\n",
    "        \n",
    "        # Interpolate the flux to match the x array\n",
    "        flux = np.interp(x, wavelength, flux)\n",
    "\n",
    "        # Convert to rest-frame wavelength\n",
    "        rest_wavelength = x / (1 + z)\n",
    "\n",
    "        # Normalize the flux using a range of rest wavelengths\n",
    "        norm_mask = np.logical_and(rest_wavelength >= 2000, rest_wavelength <= 2500)\n",
    "        flux /= np.median(flux[norm_mask])\n",
    "\n",
    "        spectra.append(flux)\n",
    "        file_names.append(file_name)\n",
    "        zs.append(z)\n",
    "\n",
    "# Convert to numpy arrays\n",
    "spectra = np.array(spectra)\n",
    "zs = np.array(zs)\n",
    "file_names = np.array(file_names)\n",
    "\n",
    "# Split the data into training and test sets (you can adjust test_size and random_state)\n",
    "spectra_train, spectra_test, zs_train, zs_test, file_names_train, file_names_test = train_test_split(\n",
    "    spectra, zs, file_names, test_size=0.2, random_state=42\n",
    ")\n",
    "\n",
    "print(\"Training set size:\", len(spectra_train))\n",
    "print(\"Test set size:\", len(spectra_test))"
   ]
  },
  {
   "cell_type": "code",
   "execution_count": 21,
   "metadata": {},
   "outputs": [
    {
     "name": "stdout",
     "output_type": "stream",
     "text": [
      "Epoch 1/50\n",
      "WARNING:tensorflow:From /opt/homebrew/Caskroom/miniconda/base/envs/agn310b/lib/python3.10/site-packages/tensorflow/python/util/deprecation.py:660: calling map_fn_v2 (from tensorflow.python.ops.map_fn) with dtype is deprecated and will be removed in a future version.\n",
      "Instructions for updating:\n",
      "Use fn_output_signature instead\n"
     ]
    },
    {
     "ename": "TypeError",
     "evalue": "Exception encountered when calling Lambda.call().\n\n\u001b[1mTensors in list passed to 'values' of 'Pack' Op have types [int32, int64] that don't all match.\u001b[0m\n\nArguments received by Lambda.call():\n  • inputs=['tf.Tensor(shape=(None, 1336), dtype=float32)', 'tf.Tensor(shape=(None, 1), dtype=float32)']\n  • mask=['None', 'None']\n  • training=True",
     "output_type": "error",
     "traceback": [
      "\u001b[0;31m---------------------------------------------------------------------------\u001b[0m",
      "\u001b[0;31mTypeError\u001b[0m                                 Traceback (most recent call last)",
      "Cell \u001b[0;32mIn[21], line 2\u001b[0m\n\u001b[1;32m      1\u001b[0m \u001b[38;5;66;03m# Train the model using the `fit` method\u001b[39;00m\n\u001b[0;32m----> 2\u001b[0m history \u001b[38;5;241m=\u001b[39m \u001b[43mautoencoder\u001b[49m\u001b[38;5;241;43m.\u001b[39;49m\u001b[43mfit\u001b[49m\u001b[43m(\u001b[49m\n\u001b[1;32m      3\u001b[0m \u001b[43m    \u001b[49m\u001b[43m[\u001b[49m\u001b[43mspectra_train\u001b[49m\u001b[43m,\u001b[49m\u001b[43m \u001b[49m\u001b[43mzs_train\u001b[49m\u001b[43m]\u001b[49m\u001b[43m,\u001b[49m\u001b[43m  \u001b[49m\u001b[38;5;66;43;03m# Training data for both inputs\u001b[39;49;00m\n\u001b[1;32m      4\u001b[0m \u001b[43m    \u001b[49m\u001b[43mspectra_train\u001b[49m\u001b[43m,\u001b[49m\u001b[43m              \u001b[49m\u001b[38;5;66;43;03m# The target output is the same as the input in autoencoders\u001b[39;49;00m\n\u001b[1;32m      5\u001b[0m \u001b[43m    \u001b[49m\u001b[43mepochs\u001b[49m\u001b[38;5;241;43m=\u001b[39;49m\u001b[38;5;241;43m50\u001b[39;49m\u001b[43m,\u001b[49m\u001b[43m                  \u001b[49m\u001b[38;5;66;43;03m# Number of epochs to train\u001b[39;49;00m\n\u001b[1;32m      6\u001b[0m \u001b[43m    \u001b[49m\u001b[43mbatch_size\u001b[49m\u001b[38;5;241;43m=\u001b[39;49m\u001b[38;5;241;43m32\u001b[39;49m\u001b[43m,\u001b[49m\u001b[43m              \u001b[49m\u001b[38;5;66;43;03m# Size of each batch\u001b[39;49;00m\n\u001b[1;32m      7\u001b[0m \u001b[43m    \u001b[49m\u001b[43mvalidation_data\u001b[49m\u001b[38;5;241;43m=\u001b[39;49m\u001b[43m(\u001b[49m\u001b[43m[\u001b[49m\u001b[43mspectra_test\u001b[49m\u001b[43m,\u001b[49m\u001b[43m \u001b[49m\u001b[43mzs_test\u001b[49m\u001b[43m]\u001b[49m\u001b[43m,\u001b[49m\u001b[43m \u001b[49m\u001b[43mspectra_test\u001b[49m\u001b[43m)\u001b[49m\u001b[43m,\u001b[49m\u001b[43m  \u001b[49m\u001b[38;5;66;43;03m# Validation data\u001b[39;49;00m\n\u001b[1;32m      8\u001b[0m \u001b[43m    \u001b[49m\u001b[43mverbose\u001b[49m\u001b[38;5;241;43m=\u001b[39;49m\u001b[38;5;241;43m1\u001b[39;49m\u001b[43m                   \u001b[49m\u001b[38;5;66;43;03m# Show training progress\u001b[39;49;00m\n\u001b[1;32m      9\u001b[0m \u001b[43m)\u001b[49m\n\u001b[1;32m     11\u001b[0m \u001b[38;5;66;03m# After training, you can evaluate the model on the test set or save the model\u001b[39;00m\n\u001b[1;32m     12\u001b[0m autoencoder\u001b[38;5;241m.\u001b[39msave(\u001b[38;5;124m'\u001b[39m\u001b[38;5;124mautoencoder_model.h5\u001b[39m\u001b[38;5;124m'\u001b[39m)\n",
      "File \u001b[0;32m/opt/homebrew/Caskroom/miniconda/base/envs/agn310b/lib/python3.10/site-packages/keras/src/utils/traceback_utils.py:122\u001b[0m, in \u001b[0;36mfilter_traceback.<locals>.error_handler\u001b[0;34m(*args, **kwargs)\u001b[0m\n\u001b[1;32m    119\u001b[0m     filtered_tb \u001b[38;5;241m=\u001b[39m _process_traceback_frames(e\u001b[38;5;241m.\u001b[39m__traceback__)\n\u001b[1;32m    120\u001b[0m     \u001b[38;5;66;03m# To get the full stack trace, call:\u001b[39;00m\n\u001b[1;32m    121\u001b[0m     \u001b[38;5;66;03m# `keras.config.disable_traceback_filtering()`\u001b[39;00m\n\u001b[0;32m--> 122\u001b[0m     \u001b[38;5;28;01mraise\u001b[39;00m e\u001b[38;5;241m.\u001b[39mwith_traceback(filtered_tb) \u001b[38;5;28;01mfrom\u001b[39;00m \u001b[38;5;28;01mNone\u001b[39;00m\n\u001b[1;32m    123\u001b[0m \u001b[38;5;28;01mfinally\u001b[39;00m:\n\u001b[1;32m    124\u001b[0m     \u001b[38;5;28;01mdel\u001b[39;00m filtered_tb\n",
      "Cell \u001b[0;32mIn[19], line 148\u001b[0m, in \u001b[0;36mbuild_decoder.<locals>.slice_and_downsample\u001b[0;34m(inputs)\u001b[0m\n\u001b[1;32m    145\u001b[0m indices \u001b[38;5;241m=\u001b[39m tf\u001b[38;5;241m.\u001b[39mrange(batch_size)\n\u001b[1;32m    147\u001b[0m \u001b[38;5;66;03m# Gather the slice from each batch using start and stop indices\u001b[39;00m\n\u001b[0;32m--> 148\u001b[0m sliced_x \u001b[38;5;241m=\u001b[39m \u001b[43mtf\u001b[49m\u001b[38;5;241;43m.\u001b[39;49m\u001b[43mmap_fn\u001b[49m\u001b[43m(\u001b[49m\n\u001b[1;32m    149\u001b[0m \u001b[43m    \u001b[49m\u001b[38;5;28;43;01mlambda\u001b[39;49;00m\u001b[43m \u001b[49m\u001b[43midx\u001b[49m\u001b[43m:\u001b[49m\u001b[43m \u001b[49m\u001b[43mx\u001b[49m\u001b[43m[\u001b[49m\u001b[43midx\u001b[49m\u001b[43m,\u001b[49m\u001b[43m \u001b[49m\u001b[43mstart_indices\u001b[49m\u001b[43m[\u001b[49m\u001b[43midx\u001b[49m\u001b[43m]\u001b[49m\u001b[43m:\u001b[49m\u001b[43mstop_indices\u001b[49m\u001b[43m[\u001b[49m\u001b[43midx\u001b[49m\u001b[43m]\u001b[49m\u001b[43m:\u001b[49m\u001b[43mupsample_factor\u001b[49m\u001b[43m]\u001b[49m\u001b[43m,\u001b[49m\u001b[43m \u001b[49m\n\u001b[1;32m    150\u001b[0m \u001b[43m    \u001b[49m\u001b[43mindices\u001b[49m\u001b[43m,\u001b[49m\u001b[43m \u001b[49m\u001b[43mdtype\u001b[49m\u001b[38;5;241;43m=\u001b[39;49m\u001b[43mtf\u001b[49m\u001b[38;5;241;43m.\u001b[39;49m\u001b[43mfloat32\u001b[49m\n\u001b[1;32m    151\u001b[0m \u001b[43m\u001b[49m\u001b[43m)\u001b[49m\n\u001b[1;32m    153\u001b[0m \u001b[38;5;28;01mreturn\u001b[39;00m sliced_x\n",
      "Cell \u001b[0;32mIn[19], line 149\u001b[0m, in \u001b[0;36mbuild_decoder.<locals>.slice_and_downsample.<locals>.<lambda>\u001b[0;34m(idx)\u001b[0m\n\u001b[1;32m    145\u001b[0m indices \u001b[38;5;241m=\u001b[39m tf\u001b[38;5;241m.\u001b[39mrange(batch_size)\n\u001b[1;32m    147\u001b[0m \u001b[38;5;66;03m# Gather the slice from each batch using start and stop indices\u001b[39;00m\n\u001b[1;32m    148\u001b[0m sliced_x \u001b[38;5;241m=\u001b[39m tf\u001b[38;5;241m.\u001b[39mmap_fn(\n\u001b[0;32m--> 149\u001b[0m     \u001b[38;5;28;01mlambda\u001b[39;00m idx: \u001b[43mx\u001b[49m\u001b[43m[\u001b[49m\u001b[43midx\u001b[49m\u001b[43m,\u001b[49m\u001b[43m \u001b[49m\u001b[43mstart_indices\u001b[49m\u001b[43m[\u001b[49m\u001b[43midx\u001b[49m\u001b[43m]\u001b[49m\u001b[43m:\u001b[49m\u001b[43mstop_indices\u001b[49m\u001b[43m[\u001b[49m\u001b[43midx\u001b[49m\u001b[43m]\u001b[49m\u001b[43m:\u001b[49m\u001b[43mupsample_factor\u001b[49m\u001b[43m]\u001b[49m, \n\u001b[1;32m    150\u001b[0m     indices, dtype\u001b[38;5;241m=\u001b[39mtf\u001b[38;5;241m.\u001b[39mfloat32\n\u001b[1;32m    151\u001b[0m )\n\u001b[1;32m    153\u001b[0m \u001b[38;5;28;01mreturn\u001b[39;00m sliced_x\n",
      "\u001b[0;31mTypeError\u001b[0m: Exception encountered when calling Lambda.call().\n\n\u001b[1mTensors in list passed to 'values' of 'Pack' Op have types [int32, int64] that don't all match.\u001b[0m\n\nArguments received by Lambda.call():\n  • inputs=['tf.Tensor(shape=(None, 1336), dtype=float32)', 'tf.Tensor(shape=(None, 1), dtype=float32)']\n  • mask=['None', 'None']\n  • training=True"
     ]
    }
   ],
   "source": [
    "# Train the model using the `fit` method\n",
    "history = autoencoder.fit(\n",
    "    [spectra_train, zs_train],  # Training data for both inputs\n",
    "    spectra_train,              # The target output is the same as the input in autoencoders\n",
    "    epochs=50,                  # Number of epochs to train\n",
    "    batch_size=32,              # Size of each batch\n",
    "    validation_data=([spectra_test, zs_test], spectra_test),  # Validation data\n",
    "    verbose=1                   # Show training progress\n",
    ")\n",
    "\n",
    "# After training, you can evaluate the model on the test set or save the model\n",
    "autoencoder.save('autoencoder_model.h5')"
   ]
  },
  {
   "cell_type": "code",
   "execution_count": 6,
   "metadata": {},
   "outputs": [
    {
     "data": {
      "image/png": "[encoded data removed]",
      "text/plain": [
       "<Figure size 1200x600 with 1 Axes>"
      ]
     },
     "metadata": {},
     "output_type": "display_data"
    }
   ],
   "source": [
    "# Plot the training history\n",
    "plt.figure(figsize=(12, 6))\n",
    "\n",
    "# Plot training & validation loss values\n",
    "plt.subplot(1, 2, 1)\n",
    "plt.plot(history_dict['loss'])\n",
    "plt.plot(history_dict['val_loss'])\n",
    "plt.title('Model Loss')\n",
    "plt.ylabel('Loss')\n",
    "plt.xlabel('Epoch')\n",
    "plt.legend(['Train', 'Validation'], loc='upper right')\n",
    "\n",
    "# Show the plots\n",
    "plt.show()"
   ]
  }
 ],
 "metadata": {
  "kernelspec": {
   "display_name": "agn310b",
   "language": "python",
   "name": "python3"
  },
  "language_info": {
   "codemirror_mode": {
    "name": "ipython",
    "version": 3
   },
   "file_extension": ".py",
   "mimetype": "text/x-python",
   "name": "python",
   "nbconvert_exporter": "python",
   "pygments_lexer": "ipython3",
   "version": "3.10.14"
  }
 },
 "nbformat": 4,
 "nbformat_minor": 2
}
