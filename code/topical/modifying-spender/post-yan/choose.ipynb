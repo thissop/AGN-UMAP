{
 "cells": [
  {
   "cell_type": "code",
   "execution_count": 2,
   "metadata": {},
   "outputs": [],
   "source": [
    "from astropy.io import fits \n",
    "import pandas as pd\n",
    "import matplotlib.pyplot as plt\n",
    "#import smplotlib\n",
    "import numpy as np\n",
    "import torch \n",
    "from spender.data.sdss import BOSS\n",
    "import os \n",
    "from tqdm import tqdm \n",
    "import shutil"
   ]
  },
  {
   "cell_type": "code",
   "execution_count": 55,
   "metadata": {},
   "outputs": [
    {
     "name": "stderr",
     "output_type": "stream",
     "text": [
      "100%|██████████| 79/79 [00:02<00:00, 33.79it/s]\n"
     ]
    }
   ],
   "source": [
    "data_path = \"/Users/yaroslav/Documents/2. work/Research/GitHub/AGN-UMAP/data/sdss-qso-catalogue/all-spectra\"\n",
    "mini_batch_dir_train = '/Users/yaroslav/Documents/2. work/Research/GitHub/AGN-UMAP/data/sdss-qso-catalogue/mini-batch/fits/train'\n",
    "mini_batch_dir_val = '/Users/yaroslav/Documents/2. work/Research/GitHub/AGN-UMAP/data/sdss-qso-catalogue/mini-batch/fits/val'\n",
    "plates = []\n",
    "mjds = []\n",
    "fiberids = []\n",
    "zs = []\n",
    "\n",
    "#ids = ((412, 52254, 308), (412, 52250, 129))\n",
    "for sub_dir_ in tqdm(os.listdir(data_path)): \n",
    "    if sub_dir_ != '.DS_Store':\n",
    "        \n",
    "        sub_dir = os.path.join(data_path, sub_dir_)\n",
    "        for file in os.listdir(sub_dir): \n",
    "            file_path = os.path.join(sub_dir, file)\n",
    "            \n",
    "            if len(zs)==5: \n",
    "                break \n",
    "            \n",
    "            elif '.1' not in file and '.DS_' not in file:       \n",
    "                with fits.open(file_path) as hdulist:           \n",
    "                    z = hdulist[2].data[0][\"Z\"]                 \n",
    "                \n",
    "                if z <= 1.5 and len(zs)<100:\n",
    "                    \n",
    "                    \n",
    "                    hdulist = fits.open(file_path)\n",
    "                    spec = hdulist[1].data['flux']\n",
    "                    wavelength = 10**hdulist[1].data['loglam']\n",
    "\n",
    "                    if min(wavelength)/(1+z)<2000 and max(wavelength)/(1+z)>2500: \n",
    "                        if np.isnan(spec).sum() > 0: \n",
    "                            print(\"NAN?\")\n",
    "\n",
    "                        else: \n",
    "                    \n",
    "                            zs.append(z)\n",
    "                            \n",
    "                            if len(zs)<=4:\n",
    "                                sub_batch_dir = os.path.join(mini_batch_dir_train, sub_dir_)\n",
    "\n",
    "                            else: \n",
    "                                sub_batch_dir = os.path.join(mini_batch_dir_val, sub_dir_)\n",
    "\n",
    "                            if not os.path.exists(sub_batch_dir): \n",
    "                                os.mkdir(sub_batch_dir)\n",
    "\n",
    "                            batch_file_path = os.path.join(sub_batch_dir, file)\n",
    "\n",
    "                            shutil.copyfile(file_path, batch_file_path)\n",
    "                        \n",
    "                            file_list = file.split('-')\n",
    "                            plate = int(file_list[1])\n",
    "                            plates.append(plate)\n",
    "                            mjd = int(file_list[2])\n",
    "                            mjds.append(mjd)\n",
    "                            fiberid = int(file_list[3].split('.')[0])\n",
    "                            fiberids.append(fiberid)\n",
    "\n",
    "                            fig, axs = plt.subplots(2, 1, figsize=(6, 4))\n",
    "\n",
    "                            with fits.open(file_path) as hdulist: \n",
    "                                axs[0].plot(10**hdulist[1].data['loglam'], hdulist[1].data['model'])\n",
    "                                axs[0].set(xlabel='Observed Wavelength (A)', ylabel='Model Flux')\n",
    "                                \n",
    "                                axs[1].plot(10**hdulist[1].data['loglam']/(1+z), hdulist[1].data['model'])\n",
    "                                axs[1].set(xlabel='Rest Wavelength (A)', ylabel='Model Flux', xlim=(1000,6000))\n",
    "                            \n",
    "                            fig.tight_layout()\n",
    "                            plt.savefig(f'/Users/yaroslav/Documents/2. work/Research/GitHub/AGN-UMAP/code/topical/modifying-spender/post-yan/plots/mini-test/{plate}-{mjd}-{fiberid}.png')\n",
    "                            plt.close()\n",
    "                    \n",
    "ids = list((plates[i], mjds[i], fiberids[i]) for i in range(len(plates)))[0:100]\n",
    "\n",
    "train_ids = ids[0:90]\n",
    "val_ids = ids[90:]\n",
    "\n",
    "train_zs = zs[0:90]\n",
    "val_zs = zs[90:]"
   ]
  },
  {
   "cell_type": "markdown",
   "metadata": {},
   "source": [
    "## make batches"
   ]
  },
  {
   "cell_type": "code",
   "execution_count": 56,
   "metadata": {},
   "outputs": [
    {
     "name": "stdout",
     "output_type": "stream",
     "text": [
      "downloading https://data.sdss.org/sas/dr16/eboss/spectro/redux/v5_13_0/spectra/lite//7167/spec-7167-56604-0919.fits\n",
      "0\n",
      "tensor(0)\n"
     ]
    }
   ],
   "source": [
    "spec, w, z, norm, zerr = BOSS.make_batch('/Users/yaroslav/Documents/2. work/Research/GitHub/AGN-UMAP/data/sdss-qso-catalogue/mini-batch/fits/train', fields=train_ids) \n",
    "\n",
    "spec = np.nan_to_num(spec)\n",
    "\n",
    "print(np.isnan(spec).sum())\n",
    "\n",
    "BOSS.save_batch(dir='/Users/yaroslav/Documents/2. work/Research/GitHub/spender/train', batch=[spec,w, z,norm,zerr], tag='train', counter=0)\n",
    "BOSS.save_batch(dir='/Users/yaroslav/Documents/2. work/Research/GitHub/AGN-UMAP/data/sdss-qso-catalogue/mini-batch/pickle/', batch=[spec,w, z,norm,zerr], tag='train', counter=0)\n",
    "\n",
    "spec, w, z, norm, zerr = BOSS.make_batch('/Users/yaroslav/Documents/2. work/Research/GitHub/AGN-UMAP/data/sdss-qso-catalogue/mini-batch/fits/val', fields=val_ids) \n",
    "\n",
    "print(np.isnan(spec).sum())\n",
    "\n",
    "BOSS.save_batch(dir='/Users/yaroslav/Documents/2. work/Research/GitHub/spender/train', batch=[spec,w, z,norm,zerr], tag='valid', counter=0)\n",
    "BOSS.save_batch(dir='/Users/yaroslav/Documents/2. work/Research/GitHub/AGN-UMAP/data/sdss-qso-catalogue/mini-batch/pickle/', batch=[spec,w, z,norm,zerr], tag='valid', counter=0)\n",
    "\n",
    "#/Users/yaroslav/Documents/2. work/Research/GitHub/AGN-UMAP/data/sdss-qso-catalogue/mini-batch/pickle/"
   ]
  },
  {
   "cell_type": "code",
   "execution_count": 44,
   "metadata": {},
   "outputs": [],
   "source": [
    "train_batch_path = '/Users/yaroslav/Documents/2. work/Research/GitHub/spender/train/BOSStrain_0.pkl'\n",
    "valid_batch_path = '/Users/yaroslav/Documents/2. work/Research/GitHub/spender/train/BOSSvalid_0.pkl'"
   ]
  },
  {
   "cell_type": "code",
   "execution_count": 54,
   "metadata": {},
   "outputs": [
    {
     "name": "stdout",
     "output_type": "stream",
     "text": [
      "5 [90, 90, 90, 90, 90] [4686, 4686, 4686, 4686, 4686, 4686, 4686, 4686, 4686, 4686, 4686, 4686, 4686, 4686, 4686, 4686, 4686, 4686, 4686, 4686, 4686, 4686, 4686, 4686, 4686, 4686, 4686, 4686, 4686, 4686, 4686, 4686, 4686, 4686, 4686, 4686, 4686, 4686, 4686, 4686, 4686, 4686, 4686, 4686, 4686, 4686, 4686, 4686, 4686, 4686, 4686, 4686, 4686, 4686, 4686, 4686, 4686, 4686, 4686, 4686, 4686, 4686, 4686, 4686, 4686, 4686, 4686, 4686, 4686, 4686, 4686, 4686, 4686, 4686, 4686, 4686, 4686, 4686, 4686, 4686, 4686, 4686, 4686, 4686, 4686, 4686, 4686, 4686, 4686, 4686]\n",
      "5 [10, 10, 10, 10, 10] [4686, 4686, 4686, 4686, 4686, 4686, 4686, 4686, 4686, 4686]\n"
     ]
    }
   ],
   "source": [
    "import pickle \n",
    "\n",
    "with open(train_batch_path, \"rb\") as f:\n",
    "    batch = pickle.load(f)\n",
    "    print(len(batch), [len(i) for i in batch], [len(j) for j in batch[0]])\n",
    "\n",
    "with open(valid_batch_path, \"rb\") as f:\n",
    "    batch = pickle.load(f)\n",
    "    print(len(batch), [len(i) for i in batch], [len(j) for j in batch[0]])"
   ]
  }
 ],
 "metadata": {
  "kernelspec": {
   "display_name": "base",
   "language": "python",
   "name": "python3"
  },
  "language_info": {
   "codemirror_mode": {
    "name": "ipython",
    "version": 3
   },
   "file_extension": ".py",
   "mimetype": "text/x-python",
   "name": "python",
   "nbconvert_exporter": "python",
   "pygments_lexer": "ipython3",
   "version": "3.9.18"
  }
 },
 "nbformat": 4,
 "nbformat_minor": 2
}
