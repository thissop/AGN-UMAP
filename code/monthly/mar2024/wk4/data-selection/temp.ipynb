{
 "cells": [
  {
   "cell_type": "code",
   "execution_count": 1,
   "metadata": {},
   "outputs": [],
   "source": [
    "import numpy as np\n",
    "import pandas as pd\n",
    "import matplotlib.pyplot as plt \n",
    "from astropy.io import fits"
   ]
  },
  {
   "cell_type": "code",
   "execution_count": 13,
   "metadata": {},
   "outputs": [
    {
     "data": {
      "text/plain": [
       "XTENSION= 'BINTABLE'           / binary table extension                         \n",
       "BITPIX  =                    8 / 8-bit bytes                                    \n",
       "NAXIS   =                    2 / 2-dimensional binary table                     \n",
       "NAXIS1  =                   12 /   width of table in bytes                      \n",
       "NAXIS2  =                 1501 / number of rows in table                        \n",
       "PCOUNT  =                    0 / size of special data area                      \n",
       "GCOUNT  =                    1 / one data group (required keyword)              \n",
       "TFIELDS =                    4 / number of fields in each row                   \n",
       "COMMENT                                                                         \n",
       "COMMENT  *** End of mandatory fields ***                                        \n",
       "COMMENT                                                                         \n",
       "COMMENT                                                                         \n",
       "COMMENT  *** End of mandatory fields ***                                        \n",
       "COMMENT                                                                         \n",
       "COMMENT                                                                         \n",
       "COMMENT  *** Column names ***                                                   \n",
       "COMMENT                                                                         \n",
       "COMMENT                                                                         \n",
       "COMMENT  *** Column names ***                                                   \n",
       "COMMENT                                                                         \n",
       "TTYPE1  = 'CHANNEL '           /   Pulse Invarient (PI) Channel                 \n",
       "COMMENT                                                                         \n",
       "COMMENT  *** Column formats ***                                                 \n",
       "COMMENT                                                                         \n",
       "COMMENT                                                                         \n",
       "COMMENT  *** Column formats ***                                                 \n",
       "COMMENT                                                                         \n",
       "TFORM1  = 'J       '           / data format of field: 4-byte INTEGER           \n",
       "TTYPE2  = 'COUNTS  '           /   Counts per channel                           \n",
       "TFORM2  = 'J       '           / data format of field: 4-byte INTEGER           \n",
       "TUNIT2  = 'count   '           / physical unit of field                         \n",
       "TTYPE3  = 'QUALITY '           /   Quality flag of this channel (0=good)        \n",
       "TFORM3  = 'I       '           / data format of field: 2-byte INTEGER           \n",
       "TTYPE4  = 'GROUPING'           / Grouping flag for channel (0=undefined)        \n",
       "TFORM4  = 'I       '           / data format of field: 2-byte INTEGER           \n",
       "EXTNAME = 'SPECTRUM'           / name of this binary table extension            \n",
       "HDUCLASS= 'OGIP    '           / format conforms to OGIP standard               \n",
       "HDUCLAS1= 'SPECTRUM'           / PHA dataset (OGIP memo OGIP-92-007)            \n",
       "HDUVERS = '1.2.0   '           / Version of format (OGIP memo OGIP-92-007)      \n",
       "HDUCLAS2= 'TOTAL   '           / Gross PHA Spectrum (source + bkgd)             \n",
       "HDUCLAS3= 'COUNT   '           / PHA data stored as Counts (not count/s)        \n",
       "TLMIN1  =                    0 / Lowest legal channel number                    \n",
       "TLMAX1  =                 1500 / Highest legal channel number                   \n",
       "DATE    = '2020-06-07T05:19:07' / file creation date (YYYY-MM-DDThh:mm:ss UT)   \n",
       "TELESCOP= 'NICER   '           / Telescope (mission) name                       \n",
       "INSTRUME= 'XTI     '           / Instrument name                                \n",
       "EXPOSURE= 173.297039994970 /  Effective Exposure time deadtime and DET-ON correc\n",
       "REALTIME= 174.000000000000 /  Clock Time                                        \n",
       "DTFRAC  = 0.00000000000000 /  Deadtime Fraction                                 \n",
       "AREASCAL=         1.000000E+00 /  Area scaling factor                           \n",
       "BACKFILE= 'js_ni2200530216_0mpu7_goddard_GTI2.bg'     / Background FITS file    \n",
       "BACKSCAL=         1.000000E+00 /  Background scale factor                       \n",
       "CORRFILE= 'none    '           / Correlation FITS file                          \n",
       "CORRSCAL=         1.000000E+00 /  Correlation scale factor                      \n",
       "RESPFILE= 'nicer_d49_u100_150_1878550872.rmf' / redistribution matrix           \n",
       "ANCRFILE= 'nicer_d49_1878550872.arf' / ancillary response                       \n",
       "DETCHANS=                 1501 / total number possible channels                 \n",
       "CHANTYPE= 'PI      '           / channel type (PHA, PI etc)                     \n",
       "POISSERR=                    T / Poissonian errors to be assumed                \n",
       "STAT_ERR=                    0 / no statistical error specified                 \n",
       "SYS_ERR =                    0 / no systematic error specified                  \n",
       "TSTART  =        180392040.000 /START TIME [MET]                                \n",
       "MJDSTART=        58745.8708102 /START TIME [MJD UTC]                            \n",
       "TSTOP   =        180392214.000 /STOP TIME [MET]                                 \n",
       "MJDSTOP =        58745.8728241 /STOP TIME [MJD UTC]                             \n",
       "DETLIST = '[0,1,2,3,4,5,6,7,10,12,13,15,16,17,21,23,24,25,26,27,30,31,32,33,35,'\n",
       "DETSUM  =           1878550872 / checksum32 for the detlist / response          \n",
       "EXPT52  =        163.299133841 /EFFECTIVE Exposure time (for full active set of \n",
       "NP_SPECF= 'js_ni2200530216_0mpu7_goddard_GTI2.noisepeak_t50' /NOISEPEAK-SPECTRUM\n",
       "JS-BINNI= '1       '           /                                                "
      ]
     },
     "execution_count": 13,
     "metadata": {},
     "output_type": "execute_result"
    }
   ],
   "source": [
    "spec_file = '/Users/yaroslav/Downloads/thaddaeus_delivery/2200530216/jspipe/js_ni2200530216_0mpu7_goddard_GTI2.jsgrp'\n",
    "\n",
    "spec_hdul = fits.open(spec_file)\n",
    "spec_data = np.array(spec_hdul[1].data)\n",
    "spec_hdul[1].header['RESPFILE']\n",
    "spec_hdul[1].header"
   ]
  },
  {
   "cell_type": "code",
   "execution_count": 11,
   "metadata": {},
   "outputs": [
    {
     "data": {
      "text/plain": [
       "(array([   0,    1,    2, ..., 1498, 1499, 1500], dtype=int32),\n",
       " array([0.000e+00, 1.000e-02, 2.000e-02, ..., 1.498e+01, 1.499e+01,\n",
       "        1.500e+01], dtype=float32),\n",
       " array([1.000e-02, 2.000e-02, 3.000e-02, ..., 1.499e+01, 1.500e+01,\n",
       "        1.501e+01], dtype=float32))"
      ]
     },
     "execution_count": 11,
     "metadata": {},
     "output_type": "execute_result"
    }
   ],
   "source": [
    "f = '/Users/yaroslav/Downloads/thaddaeus_delivery/nicer_d48_u250_350_1713073284.rmf'\n",
    "\n",
    "hdul = fits.open(f)\n",
    "data = np.array(hdul[1].data)\n",
    "data['CHANNEL'], data['E_MIN'], data['E_MAX']"
   ]
  }
 ],
 "metadata": {
  "kernelspec": {
   "display_name": "base",
   "language": "python",
   "name": "python3"
  },
  "language_info": {
   "codemirror_mode": {
    "name": "ipython",
    "version": 3
   },
   "file_extension": ".py",
   "mimetype": "text/x-python",
   "name": "python",
   "nbconvert_exporter": "python",
   "pygments_lexer": "ipython3",
   "version": "3.9.18"
  }
 },
 "nbformat": 4,
 "nbformat_minor": 2
}
