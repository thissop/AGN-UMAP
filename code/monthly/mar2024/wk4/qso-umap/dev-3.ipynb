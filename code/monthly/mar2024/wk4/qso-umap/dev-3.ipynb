{
 "cells": [
  {
   "cell_type": "code",
   "execution_count": 1,
   "metadata": {},
   "outputs": [
    {
     "name": "stderr",
     "output_type": "stream",
     "text": [
      "/opt/homebrew/Caskroom/miniconda/base/lib/python3.9/site-packages/tqdm/auto.py:21: TqdmWarning: IProgress not found. Please update jupyter and ipywidgets. See https://ipywidgets.readthedocs.io/en/stable/user_install.html\n",
      "  from .autonotebook import tqdm as notebook_tqdm\n"
     ]
    }
   ],
   "source": [
    "from astropy.io import fits \n",
    "import pandas as pd \n",
    "import numpy as np\n",
    "import umap\n",
    "import matplotlib.pyplot as plt \n",
    "import smplotlib\n",
    "import torch\n",
    "from spender.data.sdss import SDSS, BOSS\n",
    "import os "
   ]
  },
  {
   "cell_type": "code",
   "execution_count": 4,
   "metadata": {},
   "outputs": [
    {
     "name": "stderr",
     "output_type": "stream",
     "text": [
      "Using cache found in /Users/yaroslav/.cache/torch/hub/pmelchior_spender_main\n"
     ]
    },
    {
     "name": "stdout",
     "output_type": "stream",
     "text": [
      "5023\n"
     ]
    }
   ],
   "source": [
    "github = \"pmelchior/spender\"\n",
    "sdss, model = torch.hub.load(github, 'sdss_II', map_location=torch.device('cpu'))\n",
    "\n",
    "data_path = \"/Users/yaroslav/Documents/2. work/Research/GitHub/AGN-UMAP/data/sdss-qso-catalogue/spectra\"\n",
    "\n",
    "df = pd.read_csv('/Users/yaroslav/Documents/2. work/Research/GitHub/AGN-UMAP/data/sdss-qso-catalogue/QSO_DR16_catalogue.csv', dtype = object)\n",
    "\n",
    "#plates, mjds, fiberids = df['plate'], df['mjd'], df['fiberid']\n",
    "plates = []\n",
    "mjds = []\n",
    "fiberids = []\n",
    "\n",
    "#ids = ((412, 52254, 308), (412, 52250, 129))\n",
    "\n",
    "dir = '/Users/yaroslav/Documents/2. work/Research/GitHub/AGN-UMAP/data/sdss-qso-catalogue/spectra'\n",
    "for sub_dir in os.listdir(dir): \n",
    "    if '.DS_' not in sub_dir: \n",
    "        sub_dir = os.path.join(dir, sub_dir)\n",
    "        for file in os.listdir(sub_dir): \n",
    "            if '.1' not in file: \n",
    "                file_list = file.split('-')\n",
    "                plates.append(int(file_list[1]))\n",
    "                mjds.append(int(file_list[2]))\n",
    "                fiberids.append(int(file_list[3].split('.')[0]))\n",
    "\n",
    "ids = list((plates[i], mjds[i], fiberids[i]) for i in range(0,1000))\n",
    "print((len(fiberids)))\n",
    "spec, w, z, norm, zerr = BOSS.make_batch(data_path, ids)\n",
    "\n",
    "# only encode into latents\n",
    "with torch.no_grad():\n",
    "    s = model.encode(spec)"
   ]
  },
  {
   "cell_type": "code",
   "execution_count": null,
   "metadata": {},
   "outputs": [],
   "source": [
    "#latents = s.numpy() \n",
    "latent_space = s\n",
    "latent_space = latent_space[~np.isnan(latent_space).any(axis=1)]\n",
    "\n",
    "for i in latent_space: \n",
    "    print(i)"
   ]
  },
  {
   "cell_type": "code",
   "execution_count": null,
   "metadata": {},
   "outputs": [],
   "source": [
    "reducer = umap.UMAP(n_components=2)\n",
    "reduced_data = reducer.fit_transform(latent_space)\n",
    "\n",
    "# Plot the Reduced Data \n",
    "\n",
    "umap_x = reduced_data[:, 0]\n",
    "umap_y = reduced_data[:, 1]\n",
    "\n",
    "colors = []\n",
    "color_labels = ['log10(halpha)', 'z', 'log10(BH mass)', 'log10(eddington ratio)']\n",
    "\n",
    "\n",
    "for i in range(4):\n",
    "    fig, ax = plt.subplots()\n",
    "\n",
    "    cmap = ax.scatter(umap_x, umap_y, s=2, color=colors[i])\n",
    "    ax.set(title=color_labels[i])\n",
    "    ax.set_axis_off()\n",
    "    \n",
    "    fig.colorbar(cmap, orientation=\"horizontal\", pad=0.1)\n",
    "\n",
    "    plt.show()\n",
    "    plt.clf()"
   ]
  }
 ],
 "metadata": {
  "kernelspec": {
   "display_name": "base",
   "language": "python",
   "name": "python3"
  },
  "language_info": {
   "codemirror_mode": {
    "name": "ipython",
    "version": 3
   },
   "file_extension": ".py",
   "mimetype": "text/x-python",
   "name": "python",
   "nbconvert_exporter": "python",
   "pygments_lexer": "ipython3",
   "version": "3.9.18"
  }
 },
 "nbformat": 4,
 "nbformat_minor": 2
}
