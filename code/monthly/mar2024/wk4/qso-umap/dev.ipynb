{
 "cells": [
  {
   "cell_type": "code",
   "execution_count": 1,
   "metadata": {},
   "outputs": [],
   "source": [
    "from astropy.io import fits \n",
    "import pandas as pd "
   ]
  },
  {
   "cell_type": "code",
   "execution_count": 2,
   "metadata": {},
   "outputs": [],
   "source": [
    "df = pd.read_csv('/Users/yaroslav/Documents/2. work/Research/GitHub/AGN-UMAP/data/sdss-qso-catalogue/QSO_DR16_catalogue.csv')\n",
    "\n",
    "plates, mjds, fiberids = df['plate'], df['mjd'], df['fiberid']\n",
    "\n",
    "def download_qso_spectra(plates, mjds, fiberids, download_dir:str, output_file:str=None):\n",
    "    import os \n",
    "\n",
    "    commands = []\n",
    "\n",
    "    for i in range(len(plates)):\n",
    "        plate = str(plates[i])\n",
    "        mjd = str(mjds[i])\n",
    "        fiberid = str(fiberids[i])\n",
    "        fiberid = f\"{(4-len(fiberid))*'0'}{fiberid}\"\n",
    "        link = f'https://dr18.sdss.org/sas/dr18/prior-surveys/sdss4-dr17-eboss/spectro/redux/v5_13_2/spectra/lite/{plate}/spec-{plate}-{mjd}-{fiberid}.fits'\n",
    "\n",
    "        plate_dir = os.path.join(download_dir, plate)\n",
    "\n",
    "        command = f'wget {link} --directory-prefix=\"{plate_dir}\" -q'\n",
    "\n",
    "        if output_file is None: \n",
    "             \n",
    "            print(command)\n",
    "\n",
    "        else: \n",
    "            commands.append(command)\n",
    "\n",
    "    with open(output_file, 'w') as f: \n",
    "        for command in commands: \n",
    "            f.write(command+'\\n')\n",
    "\n",
    "download_dir = '/Users/yaroslav/Documents/2. work/Research/GitHub/AGN-UMAP/data/sdss-qso-catalogue/spectra'\n",
    "output_file = '/Users/yaroslav/Documents/2. work/Research/GitHub/AGN-UMAP/code/monthly/mar2024/wk4/qso-umap/download.sh'\n",
    "download_qso_spectra(plates[450:].to_list(), mjds[450:].to_list(), fiberids[450:].to_list(), download_dir=download_dir, output_file=output_file)\n",
    "#https://dr18.sdss.org/sas/dr18/prior-surveys/sdss4-dr17-eboss/spectro/redux/v5_13_2/spectra/lite/10227/spec-10227-58224-0001.fits\n",
    "#https://dr18.sdss.org/sas/dr18/prior-surveys/sdss4-dr17-eboss/spectro/redux/v5_13_2/spectra/lite/7596/spec-7596-56945-0162.fits"
   ]
  },
  {
   "cell_type": "markdown",
   "metadata": {},
   "source": [
    "# note\n",
    "\n",
    "server is not working, so here are some links to resume from later: \n",
    "https://data.sdss.org/sas/dr17/eboss/spectro/redux/v5_13_2/spectra \n",
    "https://www.sdss4.org/surveys/eboss/\n",
    "https://www.sdss4.org/dr17/algorithms/qso_catalog_dr14 \n",
    "https://www.sdss4.org/dr17/algorithms/qso_catalog/ \n",
    "\n",
    "\n",
    "command to run sh file: \n",
    "sh \"/Users/yaroslav/Documents/2. work/Research/GitHub/AGN-UMAP/code/monthly/mar2024/wk4/qso-umap/download.sh\" > log.txt 2>&1 &\n",
    "# [1] 8346"
   ]
  },
  {
   "cell_type": "code",
   "execution_count": 20,
   "metadata": {},
   "outputs": [
    {
     "name": "stderr",
     "output_type": "stream",
     "text": [
      "Using cache found in /Users/yaroslav/.cache/torch/hub/pmelchior_spender_main\n"
     ]
    }
   ],
   "source": [
    "import torch\n",
    "import pandas as pd \n",
    "from spender.data.sdss import SDSS, BOSS\n",
    "\n",
    "github = \"pmelchior/spender\"\n",
    "sdss, model = torch.hub.load(github, 'sdss_II', map_location=torch.device('cpu'))\n",
    "\n",
    "data_path = \"/Users/yaroslav/Documents/2. work/Research/GitHub/AGN-UMAP/data/sdss-qso-catalogue/spectra\"\n",
    "\n",
    "df = pd.read_csv('/Users/yaroslav/Documents/2. work/Research/GitHub/AGN-UMAP/data/sdss-qso-catalogue/QSO_DR16_catalogue.csv', dtype = object)\n",
    "\n",
    "plates, mjds, fiberids = df['plate'], df['mjd'], df['fiberid']\n",
    "\n",
    "ids = list((int(plates[i]), int(mjds[i]), int(fiberids[i])) for i in range(0,101))\n",
    "#ids = ((412, 52254, 308), (412, 52250, 129))\n",
    "\n",
    "spec, w, z, norm, zerr = BOSS.make_batch(data_path, ids)\n",
    "\n",
    "# only encode into latents\n",
    "with torch.no_grad():\n",
    "    s = model.encode(spec)"
   ]
  },
  {
   "cell_type": "code",
   "execution_count": 21,
   "metadata": {},
   "outputs": [
    {
     "name": "stdout",
     "output_type": "stream",
     "text": [
      "[ 0.9118073  -0.02105647 -0.7867601  -1.0918941  -0.9263944   0.8205018 ]\n",
      "[nan nan nan nan nan nan]\n",
      "[nan nan nan nan nan nan]\n",
      "[nan nan nan nan nan nan]\n",
      "[nan nan nan nan nan nan]\n",
      "[nan nan nan nan nan nan]\n",
      "[ 0.85729975  0.84544075 -0.640545   -2.2538722  -0.66357416  1.1501297 ]\n",
      "[nan nan nan nan nan nan]\n",
      "[nan nan nan nan nan nan]\n",
      "[nan nan nan nan nan nan]\n",
      "[nan nan nan nan nan nan]\n",
      "[nan nan nan nan nan nan]\n",
      "[nan nan nan nan nan nan]\n",
      "[ 1.1485804   0.15235996 -1.0891793  -1.7329507  -1.016283    1.0969081 ]\n",
      "[nan nan nan nan nan nan]\n",
      "[nan nan nan nan nan nan]\n",
      "[nan nan nan nan nan nan]\n",
      "[nan nan nan nan nan nan]\n",
      "[ 0.9239088   0.23749435 -0.6536002  -1.3560956  -0.6863495   0.617433  ]\n",
      "[nan nan nan nan nan nan]\n",
      "[nan nan nan nan nan nan]\n",
      "[ 1.0072932   0.1642412  -0.86142737 -1.5886414  -0.8672268   0.96708876]\n",
      "[nan nan nan nan nan nan]\n",
      "[nan nan nan nan nan nan]\n",
      "[nan nan nan nan nan nan]\n",
      "[nan nan nan nan nan nan]\n",
      "[nan nan nan nan nan nan]\n",
      "[nan nan nan nan nan nan]\n",
      "[nan nan nan nan nan nan]\n",
      "[nan nan nan nan nan nan]\n",
      "[ 1.443342    0.43881387 -1.3570108  -2.4978292  -1.302267    1.4325584 ]\n",
      "[nan nan nan nan nan nan]\n",
      "[ 0.7975715   0.20821667 -0.5248464  -1.207587   -0.6072059   0.64015204]\n",
      "[nan nan nan nan nan nan]\n",
      "[nan nan nan nan nan nan]\n",
      "[nan nan nan nan nan nan]\n",
      "[nan nan nan nan nan nan]\n",
      "[nan nan nan nan nan nan]\n",
      "[nan nan nan nan nan nan]\n",
      "[nan nan nan nan nan nan]\n",
      "[ 0.39834478  0.14958975  0.03499781 -0.6045376  -0.14451793  0.09398784]\n",
      "[nan nan nan nan nan nan]\n",
      "[nan nan nan nan nan nan]\n",
      "[nan nan nan nan nan nan]\n",
      "[nan nan nan nan nan nan]\n",
      "[nan nan nan nan nan nan]\n",
      "[nan nan nan nan nan nan]\n",
      "[nan nan nan nan nan nan]\n",
      "[ 0.99741316  1.0775409  -0.8249527  -2.8889828  -0.735772    1.5979468 ]\n",
      "[nan nan nan nan nan nan]\n",
      "[nan nan nan nan nan nan]\n",
      "[nan nan nan nan nan nan]\n",
      "[nan nan nan nan nan nan]\n",
      "[nan nan nan nan nan nan]\n",
      "[nan nan nan nan nan nan]\n",
      "[nan nan nan nan nan nan]\n",
      "[nan nan nan nan nan nan]\n",
      "[nan nan nan nan nan nan]\n",
      "[nan nan nan nan nan nan]\n",
      "[nan nan nan nan nan nan]\n",
      "[nan nan nan nan nan nan]\n",
      "[ 1.086374    0.32551104 -0.90327847 -1.8070388  -0.8773154   1.0675128 ]\n",
      "[nan nan nan nan nan nan]\n",
      "[nan nan nan nan nan nan]\n",
      "[nan nan nan nan nan nan]\n",
      "[nan nan nan nan nan nan]\n",
      "[nan nan nan nan nan nan]\n",
      "[nan nan nan nan nan nan]\n",
      "[nan nan nan nan nan nan]\n",
      "[nan nan nan nan nan nan]\n",
      "[nan nan nan nan nan nan]\n",
      "[nan nan nan nan nan nan]\n",
      "[nan nan nan nan nan nan]\n",
      "[nan nan nan nan nan nan]\n",
      "[nan nan nan nan nan nan]\n",
      "[nan nan nan nan nan nan]\n",
      "[nan nan nan nan nan nan]\n",
      "[nan nan nan nan nan nan]\n",
      "[nan nan nan nan nan nan]\n",
      "[nan nan nan nan nan nan]\n",
      "[nan nan nan nan nan nan]\n",
      "[nan nan nan nan nan nan]\n",
      "[nan nan nan nan nan nan]\n",
      "[nan nan nan nan nan nan]\n",
      "[nan nan nan nan nan nan]\n",
      "[ 0.02851777  0.06498466  0.27200586 -0.01239856  0.15324727 -0.23773424]\n",
      "[nan nan nan nan nan nan]\n",
      "[ 1.5313146   0.70266837 -1.5713199  -3.2369     -1.4058311   1.9510411 ]\n",
      "[nan nan nan nan nan nan]\n",
      "[nan nan nan nan nan nan]\n",
      "[nan nan nan nan nan nan]\n",
      "[nan nan nan nan nan nan]\n",
      "[nan nan nan nan nan nan]\n",
      "[nan nan nan nan nan nan]\n",
      "[nan nan nan nan nan nan]\n",
      "[nan nan nan nan nan nan]\n",
      "[nan nan nan nan nan nan]\n",
      "[nan nan nan nan nan nan]\n",
      "[nan nan nan nan nan nan]\n",
      "[nan nan nan nan nan nan]\n",
      "[ 1.0960655   0.49673295 -1.0384823  -2.2379873  -0.9571157   1.4314932 ]\n"
     ]
    }
   ],
   "source": [
    "for i in s.numpy(): \n",
    "    print(i)"
   ]
  },
  {
   "cell_type": "code",
   "execution_count": 15,
   "metadata": {},
   "outputs": [
    {
     "name": "stdout",
     "output_type": "stream",
     "text": [
      "downloading https://dr18.sdss.org/sas/dr18/prior-surveys/sdss4-dr17-eboss/spectro/redux/v5_13_2/spectra/lite/7750/spec-7750-58402-0802.fits\n"
     ]
    }
   ],
   "source": [
    "\n",
    "plate = plates[0]\n",
    "mjd = mjds[0]\n",
    "fiberid = fiberids[0]\n",
    "\n",
    "filename = \"spec-%s-%i-%s.fits\" % (str(plate).zfill(4), mjd, str(fiberid).zfill(4))\n",
    "\n",
    "url = f'https://dr18.sdss.org/sas/dr18/prior-surveys/sdss4-dr17-eboss/spectro/redux/v5_13_2/spectra/lite/{str(plate).zfill(4)}/{filename}'\n",
    "print(f\"downloading {url}\")"
   ]
  },
  {
   "cell_type": "code",
   "execution_count": 16,
   "metadata": {},
   "outputs": [
    {
     "name": "stdout",
     "output_type": "stream",
     "text": [
      "downloading https://dr18.sdss.org/sas/dr18/prior-surveys/sdss4-dr17-eboss/spectro/redux/v5_13_2/spectra/lite/7695/spec-7695-57654-0565.fits\n"
     ]
    }
   ],
   "source": [
    "base_url = 'https://dr18.sdss.org/sas/dr18/prior-surveys/sdss4-dr17-eboss/spectro/redux/v5_13_2/spectra/lite/'\n",
    "plate = plates[3]\n",
    "mjd = mjds[3]\n",
    "fiberid = fiberids[3]\n",
    "plate, mjd, fiberid = [int(i) for i in [plate, mjd, fiberid]]\n",
    "filename = \"spec-%s-%i-%s.fits\" % (str(plate).zfill(4), mjd, str(fiberid).zfill(4))\n",
    "\n",
    "url = f'{base_url}{str(plate).zfill(4)}/{filename}'\n",
    "print(f\"downloading {url}\")"
   ]
  },
  {
   "cell_type": "code",
   "execution_count": 13,
   "metadata": {},
   "outputs": [],
   "source": []
  }
 ],
 "metadata": {
  "kernelspec": {
   "display_name": "base",
   "language": "python",
   "name": "python3"
  },
  "language_info": {
   "codemirror_mode": {
    "name": "ipython",
    "version": 3
   },
   "file_extension": ".py",
   "mimetype": "text/x-python",
   "name": "python",
   "nbconvert_exporter": "python",
   "pygments_lexer": "ipython3",
   "version": "3.9.18"
  }
 },
 "nbformat": 4,
 "nbformat_minor": 2
}
