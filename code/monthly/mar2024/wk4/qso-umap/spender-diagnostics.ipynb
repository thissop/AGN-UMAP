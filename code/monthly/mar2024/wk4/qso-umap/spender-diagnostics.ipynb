{
 "cells": [
  {
   "cell_type": "code",
   "execution_count": 18,
   "metadata": {},
   "outputs": [
    {
     "name": "stderr",
     "output_type": "stream",
     "text": [
      "Using cache found in /Users/yaroslav/.cache/torch/hub/pmelchior_spender_main\n"
     ]
    }
   ],
   "source": [
    "import torch\n",
    "import pandas as pd \n",
    "from spender.data.sdss import BOSS\n",
    "import matplotlib.pyplot as plt\n",
    "#import smplotlib\n",
    "import os \n",
    "import numpy as np\n",
    "from astropy.io import fits \n",
    "\n",
    "github = \"pmelchior/spender\"\n",
    "sdss, model = torch.hub.load(github, 'sdss_II', map_location=torch.device('cpu'))\n",
    "\n",
    "plates = []\n",
    "mjds = []\n",
    "fiberids = []\n",
    "\n",
    "waves = []\n",
    "fluxes = []\n",
    "\n",
    "dir = '/Users/yaroslav/Documents/2. work/Research/GitHub/AGN-UMAP/data/sdss-qso-catalogue/spectra'\n",
    "for sub_dir in os.listdir(dir)[0:10]: \n",
    "    if '.' not in sub_dir:\n",
    "        sub_dir = os.path.join(dir, sub_dir)\n",
    "        for file in os.listdir(sub_dir): \n",
    "            if '.1' not in file: \n",
    "                file_list = file.split('-')\n",
    "                plates.append(int(file_list[1]))\n",
    "                mjds.append(int(file_list[2]))\n",
    "                fiberids.append(int(file_list[3].split('.')[0]))\n",
    "\n",
    "                hdul = fits.open(os.path.join(sub_dir, file))\n",
    "\n",
    "                for i in hdul[1].header.values():\n",
    "                    waves.append(10**hdul[1].data['loglam'])\n",
    "                    fluxes.append(hdul[1].data['model']) # flux is raw, model is smoothed\n",
    "\n",
    "n_obs = 20\n",
    "\n",
    "waves = np.array(waves[0:n_obs])\n",
    "fluxes = np.array(fluxes[0:n_obs])\n",
    "fluxes = fluxes/np.max(fluxes)\n",
    "\n",
    "ids = list((plates[i], mjds[i], fiberids[i]) for i in range(n_obs))\n",
    "\n",
    "spec, w, z, norm, zerr = BOSS.make_batch(dir, ids)\n",
    "\n",
    "with torch.no_grad():\n",
    "    s, spec_rest, spec_reco = model._forward(spec, instrument=sdss, z=z)\n",
    "\n",
    "spec = spec.numpy()\n",
    "mask = ~np.isnan(spec).any(axis=1)\n",
    "\n",
    "spec = spec[mask]\n",
    "w = w[mask]\n",
    "\n",
    "wave_obs = model.wave_obs.numpy() \n",
    "spec_reco = spec_reco.numpy()[mask]"
   ]
  },
  {
   "cell_type": "code",
   "execution_count": 23,
   "metadata": {},
   "outputs": [
    {
     "data": {
      "text/plain": [
       "[<matplotlib.lines.Line2D at 0x28e2d6520>]"
      ]
     },
     "execution_count": 23,
     "metadata": {},
     "output_type": "execute_result"
    },
    {
     "data": {
      "image/png": "[encoded data removed]",
      "text/plain": [
       "<Figure size 640x480 with 1 Axes>"
      ]
     },
     "metadata": {},
     "output_type": "display_data"
    }
   ],
   "source": [
    "plt.plot(waves[2], fluxes[2], color='black')\n",
    "plt.plot(w[2], spec[2], color='red')"
   ]
  },
  {
   "cell_type": "code",
   "execution_count": 24,
   "metadata": {},
   "outputs": [
    {
     "data": {
      "text/plain": [
       "tensor([[0., 0., 0.,  ..., 0., 0., 0.],\n",
       "        [0., 0., 0.,  ..., 0., 0., 0.],\n",
       "        [0., 0., 0.,  ..., 0., 0., 0.],\n",
       "        ...,\n",
       "        [0., 0., 0.,  ..., 0., 0., 0.],\n",
       "        [0., 0., 0.,  ..., 0., 0., 0.],\n",
       "        [0., 0., 0.,  ..., 0., 0., 0.]])"
      ]
     },
     "execution_count": 24,
     "metadata": {},
     "output_type": "execute_result"
    }
   ],
   "source": [
    "w"
   ]
  }
 ],
 "metadata": {
  "kernelspec": {
   "display_name": "base",
   "language": "python",
   "name": "python3"
  },
  "language_info": {
   "codemirror_mode": {
    "name": "ipython",
    "version": 3
   },
   "file_extension": ".py",
   "mimetype": "text/x-python",
   "name": "python",
   "nbconvert_exporter": "python",
   "pygments_lexer": "ipython3",
   "version": "3.9.18"
  }
 },
 "nbformat": 4,
 "nbformat_minor": 2
}
