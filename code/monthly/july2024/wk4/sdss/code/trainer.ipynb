{
 "cells": [
  {
   "cell_type": "code",
   "execution_count": 1,
   "metadata": {},
   "outputs": [],
   "source": [
    "import os\n",
    "import spender\n",
    "import torch\n",
    "from accelerate import Accelerator\n",
    "\n",
    "# get some SDSS spectra from the ids, store locally in data_path\n",
    "data_dir = r\"C:\\Users\\tkiker\\Documents\\GitHub\\AGN-UMAP\\code\\monthly\\july2024\\wk4\\sdss\\data\"\n",
    "\n",
    "ids = []\n",
    "\n",
    "for plate in os.listdir(data_dir):\n",
    "    if '.git' not in plate: \n",
    "        plate_dir = os.path.join(data_dir, plate)\n",
    "        for file in os.listdir(plate_dir):\n",
    "\n",
    "            if '.git' not in file: \n",
    "\n",
    "                #if '.fits' not in file: \n",
    "                #    os.rename(os.path.join(plate_dir, file), os.path.join(plate_dir, f'{file}.fits'))\n",
    "\n",
    "                ids.append([int(i) for i in file.split('.')[0].split('-')[1:]])\n",
    "\n",
    "for i in ids: \n",
    "    print(i)"
   ]
  },
  {
   "cell_type": "code",
   "execution_count": 4,
   "metadata": {},
   "outputs": [],
   "source": [
    "import numpy as np\n",
    "import sklearn \n",
    "import sklearn.model_selection\n",
    "from spender.data.sdss import BOSS\n",
    "\n",
    "data_dir = r\"C:\\Users\\tkiker\\Documents\\GitHub\\AGN-UMAP\\code\\monthly\\july2024\\wk4\\sdss\\data\"\n",
    "batch_dir = r'C:\\Users\\tkiker\\Documents\\GitHub\\AGN-UMAP\\code\\monthly\\july2024\\wk4\\sdss\\batched-data'\n",
    "\n",
    "boss = BOSS()\n",
    "\n",
    "shuffled_ids = ids[0:1056]\n",
    "np.random.shuffle(shuffled_ids)\n",
    "\n",
    "variable_indices = [[i*40, (i+1)*40] for i in range(0, 25)]\n",
    "\n",
    "for counter, index_range in enumerate(variable_indices): \n",
    "    spec, w, z, norm, zerr = BOSS.make_batch(data_dir, shuffled_ids[index_range[0]:index_range[1]])\n",
    "    BOSS.save_batch(dir=batch_dir, batch=[spec, w, z, norm, zerr], tag='variable', counter=counter)"
   ]
  },
  {
   "cell_type": "code",
   "execution_count": null,
   "metadata": {},
   "outputs": [],
   "source": [
    "# hardware optimization\n",
    "accelerator = Accelerator(mixed_precision='fp16')"
   ]
  },
  {
   "cell_type": "code",
   "execution_count": 14,
   "metadata": {},
   "outputs": [
    {
     "name": "stderr",
     "output_type": "stream",
     "text": [
      "WARNING: AstropyDeprecationWarning: The indent function is deprecated and may be removed in a future version.\n",
      "        Use textwrap.indent() instead. [astropy.io.fits.hdu.hdulist]\n",
      "WARNING: VerifyWarning: Error validating header for HDU #0 (note: Astropy uses zero-based indexing).\n",
      "    Header size is not multiple of 2880: 126107\n",
      "There may be extra bytes after the last HDU or the file is corrupted. [astropy.io.fits.hdu.hdulist]\n"
     ]
    },
    {
     "ename": "OSError",
     "evalue": "Empty or corrupt FITS file",
     "output_type": "error",
     "traceback": [
      "\u001b[1;31m---------------------------------------------------------------------------\u001b[0m",
      "\u001b[1;31mOSError\u001b[0m                                   Traceback (most recent call last)",
      "Cell \u001b[1;32mIn[14], line 5\u001b[0m\n\u001b[0;32m      1\u001b[0m \u001b[38;5;28;01mfrom\u001b[39;00m \u001b[38;5;21;01mastropy\u001b[39;00m\u001b[38;5;21;01m.\u001b[39;00m\u001b[38;5;21;01mio\u001b[39;00m \u001b[38;5;28;01mimport\u001b[39;00m fits\n\u001b[0;32m      4\u001b[0m filename \u001b[38;5;241m=\u001b[39m \u001b[38;5;124mr\u001b[39m\u001b[38;5;124m'\u001b[39m\u001b[38;5;124mC:\u001b[39m\u001b[38;5;124m\\\u001b[39m\u001b[38;5;124mUsers\u001b[39m\u001b[38;5;124m\\\u001b[39m\u001b[38;5;124mtkiker\u001b[39m\u001b[38;5;124m\\\u001b[39m\u001b[38;5;124mDocuments\u001b[39m\u001b[38;5;124m\\\u001b[39m\u001b[38;5;124mGitHub\u001b[39m\u001b[38;5;124m\\\u001b[39m\u001b[38;5;124mAGN-UMAP\u001b[39m\u001b[38;5;124m\\\u001b[39m\u001b[38;5;124mcode\u001b[39m\u001b[38;5;124m\\\u001b[39m\u001b[38;5;124mmonthly\u001b[39m\u001b[38;5;124m\\\u001b[39m\u001b[38;5;124mjuly2024\u001b[39m\u001b[38;5;124m\\\u001b[39m\u001b[38;5;124mwk4\u001b[39m\u001b[38;5;124m\\\u001b[39m\u001b[38;5;124msdss\u001b[39m\u001b[38;5;124m\\\u001b[39m\u001b[38;5;124mdata\u001b[39m\u001b[38;5;124m\\\u001b[39m\u001b[38;5;124m3590\u001b[39m\u001b[38;5;124m\\\u001b[39m\u001b[38;5;124mspec-3590-55201-0172.fits\u001b[39m\u001b[38;5;124m'\u001b[39m\n\u001b[1;32m----> 5\u001b[0m hdulist \u001b[38;5;241m=\u001b[39m \u001b[43mfits\u001b[49m\u001b[38;5;241;43m.\u001b[39;49m\u001b[43mopen\u001b[49m\u001b[43m(\u001b[49m\u001b[43mfilename\u001b[49m\u001b[43m,\u001b[49m\u001b[43m \u001b[49m\u001b[43mignore_missing_simple\u001b[49m\u001b[38;5;241;43m=\u001b[39;49m\u001b[38;5;28;43;01mTrue\u001b[39;49;00m\u001b[43m)\u001b[49m\n\u001b[0;32m      6\u001b[0m data \u001b[38;5;241m=\u001b[39m hdulist[\u001b[38;5;241m1\u001b[39m]\u001b[38;5;241m.\u001b[39mdata\n\u001b[0;32m      7\u001b[0m data\n",
      "File \u001b[1;32mc:\\Users\\tkiker\\AppData\\Local\\miniconda3\\envs\\agn310\\lib\\site-packages\\astropy\\io\\fits\\hdu\\hdulist.py:222\u001b[0m, in \u001b[0;36mfitsopen\u001b[1;34m(name, mode, memmap, save_backup, cache, lazy_load_hdus, ignore_missing_simple, use_fsspec, fsspec_kwargs, decompress_in_memory, **kwargs)\u001b[0m\n\u001b[0;32m    219\u001b[0m \u001b[38;5;28;01mif\u001b[39;00m \u001b[38;5;129;01mnot\u001b[39;00m name:\n\u001b[0;32m    220\u001b[0m     \u001b[38;5;28;01mraise\u001b[39;00m \u001b[38;5;167;01mValueError\u001b[39;00m(\u001b[38;5;124mf\u001b[39m\u001b[38;5;124m\"\u001b[39m\u001b[38;5;124mEmpty filename: \u001b[39m\u001b[38;5;132;01m{\u001b[39;00mname\u001b[38;5;132;01m!r}\u001b[39;00m\u001b[38;5;124m\"\u001b[39m)\n\u001b[1;32m--> 222\u001b[0m \u001b[38;5;28;01mreturn\u001b[39;00m HDUList\u001b[38;5;241m.\u001b[39mfromfile(\n\u001b[0;32m    223\u001b[0m     name,\n\u001b[0;32m    224\u001b[0m     mode,\n\u001b[0;32m    225\u001b[0m     memmap,\n\u001b[0;32m    226\u001b[0m     save_backup,\n\u001b[0;32m    227\u001b[0m     cache,\n\u001b[0;32m    228\u001b[0m     lazy_load_hdus,\n\u001b[0;32m    229\u001b[0m     ignore_missing_simple,\n\u001b[0;32m    230\u001b[0m     use_fsspec\u001b[38;5;241m=\u001b[39muse_fsspec,\n\u001b[0;32m    231\u001b[0m     fsspec_kwargs\u001b[38;5;241m=\u001b[39mfsspec_kwargs,\n\u001b[0;32m    232\u001b[0m     decompress_in_memory\u001b[38;5;241m=\u001b[39mdecompress_in_memory,\n\u001b[0;32m    233\u001b[0m     \u001b[38;5;241m*\u001b[39m\u001b[38;5;241m*\u001b[39mkwargs,\n\u001b[0;32m    234\u001b[0m )\n",
      "File \u001b[1;32mc:\\Users\\tkiker\\AppData\\Local\\miniconda3\\envs\\agn310\\lib\\site-packages\\astropy\\io\\fits\\hdu\\hdulist.py:486\u001b[0m, in \u001b[0;36mHDUList.fromfile\u001b[1;34m(cls, fileobj, mode, memmap, save_backup, cache, lazy_load_hdus, ignore_missing_simple, **kwargs)\u001b[0m\n\u001b[0;32m    467\u001b[0m \u001b[38;5;129m@classmethod\u001b[39m\n\u001b[0;32m    468\u001b[0m \u001b[38;5;28;01mdef\u001b[39;00m \u001b[38;5;21mfromfile\u001b[39m(\n\u001b[0;32m    469\u001b[0m     \u001b[38;5;28mcls\u001b[39m,\n\u001b[1;32m   (...)\u001b[0m\n\u001b[0;32m    477\u001b[0m     \u001b[38;5;241m*\u001b[39m\u001b[38;5;241m*\u001b[39mkwargs,\n\u001b[0;32m    478\u001b[0m ):\n\u001b[0;32m    479\u001b[0m \u001b[38;5;250m    \u001b[39m\u001b[38;5;124;03m\"\"\"\u001b[39;00m\n\u001b[0;32m    480\u001b[0m \u001b[38;5;124;03m    Creates an `HDUList` instance from a file-like object.\u001b[39;00m\n\u001b[0;32m    481\u001b[0m \n\u001b[1;32m   (...)\u001b[0m\n\u001b[0;32m    484\u001b[0m \u001b[38;5;124;03m    documentation for details of the parameters accepted by this method).\u001b[39;00m\n\u001b[0;32m    485\u001b[0m \u001b[38;5;124;03m    \"\"\"\u001b[39;00m\n\u001b[1;32m--> 486\u001b[0m     \u001b[38;5;28;01mreturn\u001b[39;00m \u001b[38;5;28mcls\u001b[39m\u001b[38;5;241m.\u001b[39m_readfrom(\n\u001b[0;32m    487\u001b[0m         fileobj\u001b[38;5;241m=\u001b[39mfileobj,\n\u001b[0;32m    488\u001b[0m         mode\u001b[38;5;241m=\u001b[39mmode,\n\u001b[0;32m    489\u001b[0m         memmap\u001b[38;5;241m=\u001b[39mmemmap,\n\u001b[0;32m    490\u001b[0m         save_backup\u001b[38;5;241m=\u001b[39msave_backup,\n\u001b[0;32m    491\u001b[0m         cache\u001b[38;5;241m=\u001b[39mcache,\n\u001b[0;32m    492\u001b[0m         ignore_missing_simple\u001b[38;5;241m=\u001b[39mignore_missing_simple,\n\u001b[0;32m    493\u001b[0m         lazy_load_hdus\u001b[38;5;241m=\u001b[39mlazy_load_hdus,\n\u001b[0;32m    494\u001b[0m         \u001b[38;5;241m*\u001b[39m\u001b[38;5;241m*\u001b[39mkwargs,\n\u001b[0;32m    495\u001b[0m     )\n",
      "File \u001b[1;32mc:\\Users\\tkiker\\AppData\\Local\\miniconda3\\envs\\agn310\\lib\\site-packages\\astropy\\io\\fits\\hdu\\hdulist.py:1247\u001b[0m, in \u001b[0;36mHDUList._readfrom\u001b[1;34m(cls, fileobj, data, mode, memmap, cache, lazy_load_hdus, ignore_missing_simple, use_fsspec, fsspec_kwargs, decompress_in_memory, **kwargs)\u001b[0m\n\u001b[0;32m   1244\u001b[0m     \u001b[38;5;28;01mif\u001b[39;00m hdulist\u001b[38;5;241m.\u001b[39m_file\u001b[38;5;241m.\u001b[39mclose_on_error:\n\u001b[0;32m   1245\u001b[0m         hdulist\u001b[38;5;241m.\u001b[39m_file\u001b[38;5;241m.\u001b[39mclose()\n\u001b[1;32m-> 1247\u001b[0m     \u001b[38;5;28;01mraise\u001b[39;00m \u001b[38;5;167;01mOSError\u001b[39;00m(\u001b[38;5;124m\"\u001b[39m\u001b[38;5;124mEmpty or corrupt FITS file\u001b[39m\u001b[38;5;124m\"\u001b[39m)\n\u001b[0;32m   1249\u001b[0m \u001b[38;5;28;01mif\u001b[39;00m \u001b[38;5;129;01mnot\u001b[39;00m lazy_load_hdus \u001b[38;5;129;01mor\u001b[39;00m kwargs\u001b[38;5;241m.\u001b[39mget(\u001b[38;5;124m\"\u001b[39m\u001b[38;5;124mchecksum\u001b[39m\u001b[38;5;124m\"\u001b[39m) \u001b[38;5;129;01mis\u001b[39;00m \u001b[38;5;28;01mTrue\u001b[39;00m:\n\u001b[0;32m   1250\u001b[0m     \u001b[38;5;66;03m# Go ahead and load all HDUs\u001b[39;00m\n\u001b[0;32m   1251\u001b[0m     \u001b[38;5;28;01mwhile\u001b[39;00m hdulist\u001b[38;5;241m.\u001b[39m_read_next_hdu():\n",
      "\u001b[1;31mOSError\u001b[0m: Empty or corrupt FITS file"
     ]
    }
   ],
   "source": [
    "from astropy.io import fits\n",
    "\n",
    "\n",
    "filename = r'C:\\Users\\tkiker\\Documents\\GitHub\\AGN-UMAP\\code\\monthly\\july2024\\wk4\\sdss\\data\\3590\\spec-3590-55201-0172.fits'\n",
    "hdulist = fits.open(filename, ignore_missing_simple=True)\n",
    "data = hdulist[1].data\n",
    "data"
   ]
  }
 ],
 "metadata": {
  "kernelspec": {
   "display_name": "agn310",
   "language": "python",
   "name": "python3"
  },
  "language_info": {
   "codemirror_mode": {
    "name": "ipython",
    "version": 3
   },
   "file_extension": ".py",
   "mimetype": "text/x-python",
   "name": "python",
   "nbconvert_exporter": "python",
   "pygments_lexer": "ipython3",
   "version": "3.10.14"
  }
 },
 "nbformat": 4,
 "nbformat_minor": 2
}
