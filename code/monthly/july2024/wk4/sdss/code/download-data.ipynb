{
 "cells": [
  {
   "cell_type": "code",
   "execution_count": 19,
   "metadata": {},
   "outputs": [],
   "source": [
    "table = hdul[1].data\n",
    "\n",
    "spectroscopic_epochs = table['SPECTRO_DUPLICATE']\n",
    "spectroscopic_epochs = [list(set(i)) for i in spectroscopic_epochs]\n",
    "\n",
    "sdss_indices = []\n",
    "\n",
    "for idx, arr in enumerate(spectroscopic_epochs):\n",
    "    if 1 in arr: \n",
    "        sdss_indices.append(idx)\n",
    "\n",
    "sdss_indices = np.array(sdss_indices)\n",
    "\n",
    "sdss_names = table['SDSS_NAME'][sdss_indices]\n",
    "plates, mjds, fiberIDs = table['PLATE'][sdss_indices], table['MJD'][sdss_indices], table['FIBERID'][sdss_indices]\n",
    "\n",
    "mask = np.argsort(plates)\n",
    "\n",
    "sdss_names, plates, mjds, fiberIDs = sdss_names[mask], plates[mask], mjds[mask], fiberIDs[mask]"
   ]
  },
  {
   "cell_type": "code",
   "execution_count": 12,
   "metadata": {},
   "outputs": [],
   "source": [
    "import os \n",
    "from tqdm import tqdm \n",
    "import os\n",
    "import spender\n",
    "import torch\n",
    "from accelerate import Accelerator\n",
    "\n",
    "# hardware optimization\n",
    "accelerator = Accelerator(mixed_precision='fp16')\n",
    "\n",
    "# get code, instrument, and pretrained spectrum model from the hub\n",
    "sdss, model = spender.hub.load('sdss_II',  map_location=accelerator.device)\n",
    "\n",
    "# prep data download stuff\n",
    "download_dir = r'C:\\Users\\tkiker\\Documents\\GitHub\\AGN-UMAP\\code\\monthly\\july2024\\wk4\\sdss\\data'\n",
    "\n",
    "sort_mask = np.argsort(plates)\n",
    "\n",
    "all_ids = np.array([plates, mjds, fiberIDs]).T\n",
    "all_ids = np.array([tuple(i) for i in all_ids])[sort_mask]"
   ]
  },
  {
   "cell_type": "code",
   "execution_count": 27,
   "metadata": {},
   "outputs": [
    {
     "name": "stderr",
     "output_type": "stream",
     "text": [
      " 37%|███▋      | 10540/28252 [3:33:09<5:17:54,  1.08s/it]"
     ]
    }
   ],
   "source": [
    "import requests\n",
    "\n",
    "for id in tqdm(all_ids): \n",
    "    fiberID = str(id[2])\n",
    "    if len(fiberID) < 4: \n",
    "        fiberID = (4-len(fiberID))*'0' + fiberID\n",
    "    \n",
    "    plate = str(id[0])\n",
    "    if len(plate) < 4: \n",
    "        plate = (4-len(plate))*'0' + plate\n",
    "\n",
    "    mjd = str(id[1])\n",
    "    \n",
    "    plate_dir = os.path.join(download_dir, plate)\n",
    "\n",
    "    # https://data.sdss.org/sas/dr17/eboss/spectro/redux/v5_13_2/spectra/full/3586/spec-3586-55181-0890.fits\n",
    "    file_url = f'https://data.sdss.org/sas/dr17/eboss/spectro/redux/v5_13_2/spectra/full/{plate}/spec-{plate}-{mjd}-{fiberID}.fits'\n",
    "    \n",
    "    try:\n",
    "        response = requests.get(file_url)\n",
    "        response.raise_for_status()\n",
    "        \n",
    "        os.makedirs(plate_dir, exist_ok=True)\n",
    "        file_path = os.path.join(plate_dir, f'spec-{plate}-{mjd}-{fiberID}.fits')\n",
    "\n",
    "        with open(file_path, 'wb') as file:\n",
    "            file.write(response.content)\n",
    "        \n",
    "        #print(f\"Downloaded file and saved to {file_path}\")\n",
    "\n",
    "    except requests.exceptions.HTTPError as http_err:\n",
    "        print(f\"HTTP error occurred: {http_err}\")\n",
    "    except Exception as err:\n",
    "        print(f\"An error occurred: {err}\")"
   ]
  },
  {
   "cell_type": "code",
   "execution_count": 22,
   "metadata": {},
   "outputs": [
    {
     "name": "stdout",
     "output_type": "stream",
     "text": [
      "Downloaded file and saved to C:\\Users\\tkiker\\Documents\\GitHub\\AGN-UMAP\\code\\monthly\\july2024\\wk4\\sdss\\data\\3587\\spec-3586-55181-0890.fits\n"
     ]
    }
   ],
   "source": [
    "file_url = f'https://data.sdss.org/sas/dr17/eboss/spectro/redux/v5_13_2/spectra/full/3586/spec-3586-55181-0890.fits'\n",
    "    \n",
    "plate = '3586'\n",
    "mjd = '55181'\n",
    "fiberID = '0890'\n",
    "\n",
    "try:\n",
    "    response = requests.get(file_url)\n",
    "    response.raise_for_status()\n",
    "    \n",
    "    os.makedirs(plate_dir, exist_ok=True)\n",
    "    file_path = os.path.join(plate_dir, f'spec-{plate}-{mjd}-{fiberID}.fits')\n",
    "\n",
    "    with open(file_path, 'wb') as file:\n",
    "        file.write(response.content)\n",
    "    \n",
    "    print(f\"Downloaded file and saved to {file_path}\")\n",
    "except requests.exceptions.HTTPError as http_err:\n",
    "    print(f\"HTTP error occurred: {http_err}\")\n",
    "except Exception as err:\n",
    "    print(f\"An error occurred: {err}\")"
   ]
  }
 ],
 "metadata": {
  "kernelspec": {
   "display_name": "agn310",
   "language": "python",
   "name": "python3"
  },
  "language_info": {
   "codemirror_mode": {
    "name": "ipython",
    "version": 3
   },
   "file_extension": ".py",
   "mimetype": "text/x-python",
   "name": "python",
   "nbconvert_exporter": "python",
   "pygments_lexer": "ipython3",
   "version": "3.10.14"
  }
 },
 "nbformat": 4,
 "nbformat_minor": 2
}
