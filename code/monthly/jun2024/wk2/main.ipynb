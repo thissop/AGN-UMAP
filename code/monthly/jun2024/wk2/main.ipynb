{
 "cells": [
  {
   "cell_type": "code",
   "execution_count": null,
   "metadata": {},
   "outputs": [],
   "source": [
    "\n",
    "github = \"pmelchior/spender\"\n",
    "sdss, model = torch.hub.load(github, 'sdss_II', map_location=torch.device('cpu'))\n",
    "\n",
    "data_dir = '/Users/yaroslav/Documents/2. work/Research/GitHub/AGN-UMAP/data/sdss-qso-catalogue/spectra'\n",
    "\n",
    "ids = [(7595, 56957, 5)]\n",
    "\n",
    "spec, w, z, norm, zerr = BOSS.make_batch(data_dir, ids)\n",
    "\n",
    "with torch.no_grad():\n",
    "    s, spec_rest, spec_reco = model._forward(spec, instrument=BOSS(), z=z)\n",
    "\n",
    "s, spec_rest, spec_reco = s.numpy()[0], spec_rest.numpy()[0], spec_reco.numpy()[0]\n",
    "\n",
    "print(len(s), len(spec_rest), len(spec_reco))"
   ]
  },
  {
   "cell_type": "code",
   "execution_count": null,
   "metadata": {},
   "outputs": [],
   "source": [
    "import torch\n",
    "from accelerate import Accelerator\n",
    "import pandas as pd\n",
    "\n",
    "# hardware optimization\n",
    "accelerator = Accelerator(mixed_precision='fp16')\n",
    "\n",
    "# get code, instrument, and pretrained spectrum model from the hub\n",
    "github = \"pmelchior/spender\"\n",
    "sdss, model = torch.hub.load(github, 'sdss_II',  map_location=accelerator.device)\n",
    "model = model.to('cpu')\n",
    "# get some SDSS spectra from the ids, store locally in data_path\n",
    "from spender.data.sdss import SDSS\n",
    "data_path = \"./DATA\"\n",
    "\n",
    "key_df = pd.read_csv('/Users/yaroslav/Documents/2. work/Research/GitHub/AGN-UMAP/code/monthly/feb2024/wk4/key.csv')\n",
    "\n",
    "ids = ((412, 52254, 308), (412, 52250, 129)) # plate, mjd, fiberid\n",
    "spec, w, z, norm, zerr = SDSS.make_batch(data_path, ids)\n",
    "\n",
    "# run spender end-to-end\n",
    "with torch.no_grad():\n",
    "  spec_reco = model(spec, instrument=sdss, z=z)\n",
    "\n",
    "# only encode into latents\n",
    "with torch.no_grad():\n",
    "  s = model.encode(spec)\n",
    "\n",
    "print(s)"
   ]
  }
 ],
 "metadata": {
  "language_info": {
   "name": "python"
  }
 },
 "nbformat": 4,
 "nbformat_minor": 2
}
